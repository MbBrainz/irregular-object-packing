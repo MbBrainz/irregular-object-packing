{
 "cells": [
  {
   "cell_type": "code",
   "execution_count": null,
   "metadata": {},
   "outputs": [],
   "source": []
  },
  {
   "cell_type": "code",
   "execution_count": 1,
   "metadata": {},
   "outputs": [
    {
     "name": "stdout",
     "output_type": "stream",
     "text": [
      "Mesh info loaded mesh: <trimesh.Trimesh(vertices.shape=(642, 3), faces.shape=(1280, 3))>, \n",
      "volume: 71.04896973139347, \n",
      "bounding box: [[35.089 37.963 35.089]\n",
      " [42.911 40.037 42.911]] \n",
      "center of mass: [39. 39. 39.]\n",
      "\n",
      "Mesh info scaled mesh: <trimesh.Trimesh(vertices.shape=(642, 3), faces.shape=(1280, 3))>, \n",
      "volume: 0.30000000000000027, \n",
      "bounding box: [[-0.6321 -0.1676 -0.6321]\n",
      " [ 0.6321  0.1676  0.6321]] \n",
      "center of mass: [0. 0. 0.]\n",
      "\n",
      "Mesh info original container: <trimesh.primitives.Sphere>, \n",
      "volume: 4.1887902047863905, \n",
      "bounding box: [[-1. -1. -1.]\n",
      " [ 1.  1.  1.]] \n",
      "center of mass: [-0.  0.  0.]\n",
      "\n",
      "Mesh info scaled container: <trimesh.primitives.Sphere>, \n",
      "volume: 5.000000000000001, \n",
      "bounding box: [[-1.0608 -1.0608 -1.0608]\n",
      " [ 1.0608  1.0608  1.0608]] \n",
      "center of mass: [0. 0. 0.]\n",
      "\n"
     ]
    }
   ],
   "source": [
    "import trimesh\n",
    "import numpy as np\n",
    "from irregular_object_packing.mesh.transform import scale_and_center_mesh, scale_to_volume\n",
    "from irregular_object_packing.mesh.utils import print_mesh_info\n",
    "from irregular_object_packing.packing import initialize, nlc_optimisation as nlc, chordal_axis_transform as cat\n",
    "from irregular_object_packing.packing.growth_based_optimisation import SimSettings, Optimizer\n",
    "from importlib import reload\n",
    "\n",
    "mesh_volume = 0.3\n",
    "container_volume = 5\n",
    "coverage_rate = 0.3\n",
    "\n",
    "DATA_FOLDER = \"../data/mesh/\"\n",
    "loaded_mesh = trimesh.load_mesh(DATA_FOLDER + \"RBC_normal.stl\")\n",
    "print_mesh_info(loaded_mesh, \"loaded mesh\")\n",
    "# trimesh.Scene([loaded_mesh]).show()\n",
    "# Scale the mesh to the desired volume\n",
    "original_mesh = scale_and_center_mesh(loaded_mesh, mesh_volume)\n",
    "print_mesh_info(original_mesh, \"scaled mesh\")\n",
    "\n",
    "container = trimesh.primitives.Sphere(radius=1, center=[0, 0, 0])\n",
    "# container = trimesh.primitives.Cylinder(radius=1, height=1)\n",
    "print_mesh_info(container, \"original container\")\n",
    "\n",
    "container = scale_to_volume(container, container_volume)\n",
    "print_mesh_info(container, \"scaled container\")"
   ]
  },
  {
   "cell_type": "code",
   "execution_count": 2,
   "metadata": {},
   "outputs": [
    {
     "data": {
      "application/vnd.jupyter.widget-view+json": {
       "model_id": "8560fbae067b4f6db755a2b4a9c7f5fa",
       "version_major": 2,
       "version_minor": 0
      },
      "text/plain": [
       "scaling_barrier:   0%|          | 0/2 [00:00<?, ?it/s]"
      ]
     },
     "metadata": {},
     "output_type": "display_data"
    },
    {
     "data": {
      "application/vnd.jupyter.widget-view+json": {
       "model_id": "700c78bd0c3845309297eac7c55ebf41",
       "version_major": 2,
       "version_minor": 0
      },
      "text/plain": [
       "Iteration:   0%|          | 0/1 [00:00<?, ?it/s['obj_id', {'value': 0}]]"
      ]
     },
     "metadata": {},
     "output_type": "display_data"
    },
    {
     "data": {
      "application/vnd.jupyter.widget-view+json": {
       "model_id": "22f47618390341cd9bc930de791c1c8b",
       "version_major": 2,
       "version_minor": 0
      },
      "text/plain": [
       "Iteration:   0%|          | 0/1 [00:00<?, ?it/s['obj_id', {'value': 0}]]"
      ]
     },
     "metadata": {},
     "output_type": "display_data"
    },
    {
     "name": "stdout",
     "output_type": "stream",
     "text": [
      "! collision found for 1 objectts with total of 1 contacts\n",
      "Collision: None\n",
      "Optimisation complete. scales: [1.0, 0.9999999999999902, 0.9999999999999527, 1.0, 0.9999999999999999]\n"
     ]
    }
   ],
   "source": [
    "import irregular_object_packing.packing.growth_based_optimisation as gbo\n",
    "reload(gbo)\n",
    "\n",
    "\n",
    "settings = gbo.SimSettings(sample_rate=30, max_angle=1 / 12 * np.pi, max_t=None, initial_scale=0.1, itn_max=1, n_scaling_steps=2, coverage_rate=0.3)\n",
    "\n",
    "optimizer = gbo.Optimizer([original_mesh], container, settings)\n",
    "\n",
    "optimizer.run()\n"
   ]
  },
  {
   "cell_type": "markdown",
   "metadata": {},
   "source": []
  },
  {
   "cell_type": "code",
   "execution_count": 8,
   "metadata": {},
   "outputs": [
    {
     "data": {
      "application/vnd.jupyter.widget-view+json": {
       "model_id": "aba0939055e3488498a6169e1f0e7a0e",
       "version_major": 2,
       "version_minor": 0
      },
      "text/plain": [
       "ViewInteractiveWidget(height=768, layout=Layout(height='auto', width='100%'), width=1024)"
      ]
     },
     "metadata": {},
     "output_type": "display_data"
    },
    {
     "data": {
      "text/plain": [
       "<pyvista.plotting.plotting.Plotter at 0x287761510>"
      ]
     },
     "execution_count": 8,
     "metadata": {},
     "output_type": "execute_result"
    }
   ],
   "source": [
    "from irregular_object_packing.packing.plots import plot_state, plot_step_comparison\n",
    "\n",
    "object_id = 2\n",
    "first = 1\n",
    "second = 2\n",
    "\n",
    "cat_cell_mesh_0 = cat.cat_mesh_from_data(optimizer.cat_log[first], object_id)\n",
    "# cat_cell_mesh_1 = cat.cat_mesh_from_data(optimizer.cat_log[second], object_id)\n",
    "\n",
    "\n",
    "plot_step_comparison(\n",
    "    original_mesh,\n",
    "    [optimizer.tf_log[first][object_id], optimizer.tf_log[second][object_id]],\n",
    "    cat_cell_mesh_0\n",
    "    # cat_cell_mesh_1,\n",
    ")\n",
    "\n",
    "# %%\n",
    "# print(optimizer.tf_log[first][object_id])\n",
    "# print(optimizer.tf_log[second][object_id])\n"
   ]
  },
  {
   "cell_type": "code",
   "execution_count": null,
   "metadata": {},
   "outputs": [],
   "source": []
  },
  {
   "cell_type": "code",
   "execution_count": 4,
   "metadata": {},
   "outputs": [
    {
     "data": {
      "application/vnd.jupyter.widget-view+json": {
       "model_id": "bf04bd1faaf046419c2decbbcce5f10f",
       "version_major": 2,
       "version_minor": 0
      },
      "text/plain": [
       "ViewInteractiveWidget(height=768, layout=Layout(height='auto', width='100%'), width=1024)"
      ]
     },
     "metadata": {},
     "output_type": "display_data"
    }
   ],
   "source": [
    "\n",
    "# Plot of the final packing\n",
    "import pyvista as pv\n",
    "# from irregular_object_packing.packing.plots import create_plot, plot_stat\n",
    "import irregular_object_packing.packing.plots as plots\n",
    "\n",
    "optimizer.transform_data\n",
    "\n",
    "plots.plot_state(optimizer)\n"
   ]
  },
  {
   "cell_type": "code",
   "execution_count": null,
   "metadata": {},
   "outputs": [],
   "source": []
  }
 ],
 "metadata": {
  "kernelspec": {
   "display_name": "taichi310",
   "language": "python",
   "name": "python3"
  },
  "language_info": {
   "codemirror_mode": {
    "name": "ipython",
    "version": 3
   },
   "file_extension": ".py",
   "mimetype": "text/x-python",
   "name": "python",
   "nbconvert_exporter": "python",
   "pygments_lexer": "ipython3",
   "version": "3.10.9"
  },
  "orig_nbformat": 4
 },
 "nbformat": 4,
 "nbformat_minor": 2
}
