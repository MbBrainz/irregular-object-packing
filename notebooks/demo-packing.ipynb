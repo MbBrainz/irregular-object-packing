{
 "cells": [
  {
   "cell_type": "code",
   "execution_count": 1,
   "metadata": {},
   "outputs": [],
   "source": [
    "import sys\n",
    "sys.path.append('../')\n",
    "\n",
    "import trimesh\n",
    "import pyvista as pv\n",
    "from pyvista import PolyData, Plotter\n",
    "import numpy as np\n",
    "from irregular_object_packing.mesh.transform import scale_and_center_mesh, scale_to_volume\n",
    "from irregular_object_packing.mesh.utils import print_mesh_info\n",
    "from irregular_object_packing.packing import initialize, nlc_optimisation as nlc, chordal_axis_transform as cat\n",
    "from irregular_object_packing.packing.growth_based_optimisation import SimSettings, Optimizer\n",
    "from irregular_object_packing.packing.plots import generate_tinted_colors\n",
    "from importlib import reload"
   ]
  },
  {
   "cell_type": "code",
   "execution_count": 19,
   "metadata": {},
   "outputs": [
    {
     "name": "stdout",
     "output_type": "stream",
     "text": [
      "PolyData (0x14780e5c0)\n",
      "  N Cells:    200\n",
      "  N Points:   102\n",
      "  N Strips:   0\n",
      "  X Bounds:   -1.347e+00, 1.347e+00\n",
      "  Y Bounds:   -1.336e+00, 1.336e+00\n",
      "  Z Bounds:   -1.354e+00, 1.354e+00\n",
      "  N Arrays:   0\n",
      "\n",
      "PolyData (0x14780e5c0)\n",
      "  N Cells:    100\n",
      "  N Points:   52\n",
      "  N Strips:   0\n",
      "  X Bounds:   -7.467e-01, 7.417e-01\n",
      "  Y Bounds:   -2.110e-01, 2.085e-01\n",
      "  Z Bounds:   -7.464e-01, 7.482e-01\n",
      "  N Arrays:   0\n",
      "\n"
     ]
    }
   ],
   "source": [
    "DATA_FOLDER = \"../data/mesh/\"\n",
    "\n",
    "mesh_volume = 0.5\n",
    "container_volume = 10\n",
    "\n",
    "loaded_mesh = pv.read(DATA_FOLDER + \"RBC_normal.stl\")\n",
    "container = pv.Sphere(radius=1)\n",
    "\n",
    "# Scale the mesh and container to the desired volume\n",
    "container = scale_to_volume(container, container_volume)\n",
    "original_mesh = scale_and_center_mesh(loaded_mesh, mesh_volume)\n",
    "\n",
    "settings = SimSettings(\n",
    "    itn_max=1,\n",
    "    n_scaling_steps=1,\n",
    "    final_scale=0.3,\n",
    "    sample_rate=100,\n",
    "    r=0.3\n",
    "    # plot_intermediate=True,\n",
    ")\n",
    "optimizer = Optimizer(original_mesh, container, settings)\n",
    "optimizer.setup()"
   ]
  },
  {
   "attachments": {},
   "cell_type": "markdown",
   "metadata": {},
   "source": [
    "## Optimisation Algorithm\n",
    "The next cell will execute the packing algorithm by calling `optimizer.run()`. This will perform some initial setup based on the settings, it will generate the initial positions and rotations of the objects and it will start the optimisation algorithm. depending on the settings, this can take some time. \n",
    "\n",
    "The optimisation works as follows:\n",
    "\n",
    "First, the scaling barrier values are determined. These are the limits to which scale the objects can grow in each step (Described in 4.2.2 and Algorithm 1 in the paper). The scaling_barrier values are determined by the `n_scaling_steps` and the `final_scale` parameter. The default value is 0.1, which means that the objects can grow by 10% in each scaling step.\n",
    "\n",
    "\n",
    "Then for each scaling step, the following itteration is performed `itn_max` times:\n",
    "\n",
    "*The code can be found here: [irregular-object-packing/packing/growth_based_optimisation.py](../irregular_object_packing/packing/growth_based_optimisation.py)*\n",
    "```Python\n",
    "\n",
    "for i in range(self.settings.itn_max):\n",
    "\"\"\"Perform a single iteration of the optimisation\"\"\"\n",
    "    # DOWN SAMPLE MESHES\n",
    "    container_points = trimesh.sample.sample_surface_even(self.container, self.container_sample_rate())[0]\n",
    "    sample_points = trimesh.sample.sample_surface_even(self.shape, self.mesh_sample_rate())[0]\n",
    "\n",
    "    # TRANSFORM MESHES TO OBJECT COORDINATES, SCALE, ROTATION\n",
    "    obj_points = [\n",
    "        trimesh.transform_points(sample_points.copy(), nlc.construct_transform_matrix(transform_data))\n",
    "        for transform_data in self.tf_arrs\n",
    "    ]\n",
    "\n",
    "    # COMPUTE CAT CELLS\n",
    "    self.cat_data = cat.compute_cat_cells(obj_points, container_points, self.object_coords)\n",
    "\n",
    "    # GROWTH-BASED OPTIMISATION\n",
    "    for obj_i, transform_data_i in enumerate(self.tf_arrs):\n",
    "        self.local_optimisation(obj_i, self.cat_data, transform_data_i, scaling_barrier)\n",
    "```\n",
    "\n",
    "\n",
    "The `local_optimisation` function is the core of the optimisation algorithm. It performs the following steps:\n",
    "1. compute the new optimal transform using the non-linear constraint optimisation based on a local coordinate system\n",
    "2. update the transformation based on the new optimal transform. \n",
    "3. setting the new object coordinates.\n"
   ]
  },
  {
   "cell_type": "code",
   "execution_count": 20,
   "metadata": {},
   "outputs": [
    {
     "data": {
      "application/vnd.jupyter.widget-view+json": {
       "model_id": "1009421a2d5f4dd98590f4fb5125458e",
       "version_major": 2,
       "version_minor": 0
      },
      "text/plain": [
       "scaling \t:   0%|          | 0/1 [00:00<?, ?it/s]"
      ]
     },
     "metadata": {},
     "output_type": "display_data"
    },
    {
     "data": {
      "application/vnd.jupyter.widget-view+json": {
       "model_id": "4a38e59dc7cf4909916515cc3072c99d",
       "version_major": 2,
       "version_minor": 0
      },
      "text/plain": [
       "Iteration\t:   0%|          | 0/1 [00:00<?, ?it/s]"
      ]
     },
     "metadata": {},
     "output_type": "display_data"
    },
    {
     "data": {
      "application/vnd.jupyter.widget-view+json": {
       "model_id": "65b5b09fe1ec4646b25505b9597e2359",
       "version_major": 2,
       "version_minor": 0
      },
      "text/plain": [
       "Object\t:   0%|          | 0/7 [00:00<?, ?it/s]"
      ]
     },
     "metadata": {},
     "output_type": "display_data"
    },
    {
     "name": "stderr",
     "output_type": "stream",
     "text": [
      "/opt/homebrew/anaconda3/envs/taichi310/lib/python3.10/site-packages/pyvista/core/dataset.py:2668: PyVistaDeprecationWarning: `cell_points` is deprecated. Use `cell[i].points` instead\n",
      "  warnings.warn(\n"
     ]
    }
   ],
   "source": [
    "optimizer.run()"
   ]
  },
  {
   "attachments": {},
   "cell_type": "markdown",
   "metadata": {},
   "source": [
    "## Visualisation \n",
    "The following cell shows a visualisation of the final result."
   ]
  },
  {
   "cell_type": "code",
   "execution_count": 21,
   "metadata": {},
   "outputs": [
    {
     "data": {
      "application/vnd.jupyter.widget-view+json": {
       "model_id": "9408fff782244ddbae552b4c74220090",
       "version_major": 2,
       "version_minor": 0
      },
      "text/plain": [
       "Widget(value=\"<iframe src='http://localhost:64049/index.html?ui=P_0x2918e3460_7&reconnect=auto' style='width: …"
      ]
     },
     "metadata": {},
     "output_type": "display_data"
    }
   ],
   "source": [
    "plotter = Plotter()\n",
    "tints = generate_tinted_colors(optimizer.n_objs)\n",
    "\n",
    "for i, mesh in enumerate(optimizer.final_meshes_after(optimizer.shape)):\n",
    "    plotter.add_mesh(mesh, color=tints[1][i], opacity=0.8)\n",
    "\n",
    "for i, mesh in enumerate(optimizer.final_cat_meshes()):\n",
    "    plotter.add_mesh(mesh, color=tints[0][i], opacity=0.5)\n",
    "\n",
    "plotter.add_mesh(optimizer.container, color=\"grey\", opacity=0.3)\n",
    "# plotter.add_mesh(optimizer.container, color=\"grey\", opacity=0.2)\n",
    "\n",
    "plotter.show(\n",
    "    interactive=False,\n",
    ")"
   ]
  },
  {
   "cell_type": "code",
   "execution_count": 22,
   "metadata": {},
   "outputs": [
    {
     "data": {
      "application/vnd.jupyter.widget-view+json": {
       "model_id": "4ea7db92a34f43a7afd4795d2c9198fb",
       "version_major": 2,
       "version_minor": 0
      },
      "text/plain": [
       "Widget(value=\"<iframe src='http://localhost:64049/index.html?ui=P_0x291ba3d60_9&reconnect=auto' style='width: …"
      ]
     },
     "metadata": {},
     "output_type": "display_data"
    },
    {
     "data": {
      "text/plain": [
       "<pyvista.plotting.plotting.Plotter at 0x291ba3d60>"
      ]
     },
     "execution_count": 22,
     "metadata": {},
     "output_type": "execute_result"
    }
   ],
   "source": [
    "import irregular_object_packing.packing.plots as plots\n",
    "from importlib import reload\n",
    "reload(plots)\n",
    "object_id = 1\n",
    "iteration = 0\n",
    "second = 1\n",
    "\n",
    "# cat_cell_mesh_1 = cat.cat_mesh_from_data(optimizer.cat_log[second], object_id)\n",
    "\n",
    "\n",
    "\n",
    "plots.plot_step_comparison(\n",
    "    optimizer.mesh_before(iteration, object_id, optimizer.shape),\n",
    "    optimizer.mesh_after(iteration, object_id, optimizer.shape),\n",
    "    optimizer.cat_mesh(iteration, object_id),\n",
    ")\n"
   ]
  },
  {
   "cell_type": "code",
   "execution_count": 23,
   "metadata": {},
   "outputs": [
    {
     "data": {
      "application/vnd.jupyter.widget-view+json": {
       "model_id": "29f02136e46345e39e7a7f01942514ce",
       "version_major": 2,
       "version_minor": 0
      },
      "text/plain": [
       "Widget(value=\"<iframe src='http://localhost:64049/index.html?ui=P_0x29172c700_11&reconnect=auto' style='width:…"
      ]
     },
     "metadata": {},
     "output_type": "display_data"
    },
    {
     "data": {
      "text/plain": [
       "<pyvista.plotting.plotting.Plotter at 0x29172c700>"
      ]
     },
     "execution_count": 23,
     "metadata": {},
     "output_type": "execute_result"
    }
   ],
   "source": [
    "# Plotting the final step before and after optimization\n",
    "plots.plot_full_comparison(\n",
    "    optimizer.final_meshes_before(optimizer.shape),\n",
    "    optimizer.final_meshes_after(optimizer.shape),\n",
    "    optimizer.final_cat_meshes(),\n",
    "    optimizer.container,\n",
    ")"
   ]
  },
  {
   "cell_type": "code",
   "execution_count": null,
   "metadata": {},
   "outputs": [],
   "source": []
  }
 ],
 "metadata": {
  "kernelspec": {
   "display_name": "taichi310",
   "language": "python",
   "name": "python3"
  },
  "language_info": {
   "codemirror_mode": {
    "name": "ipython",
    "version": 3
   },
   "file_extension": ".py",
   "mimetype": "text/x-python",
   "name": "python",
   "nbconvert_exporter": "python",
   "pygments_lexer": "ipython3",
   "version": "3.10.9"
  },
  "orig_nbformat": 4
 },
 "nbformat": 4,
 "nbformat_minor": 2
}
