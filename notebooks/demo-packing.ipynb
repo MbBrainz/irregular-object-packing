{
 "cells": [
  {
   "cell_type": "code",
   "execution_count": 1,
   "metadata": {},
   "outputs": [],
   "source": [
    "import sys\n",
    "sys.path.append('../')\n",
    "\n",
    "import trimesh\n",
    "import pyvista as pv\n",
    "from pyvista import PolyData, Plotter\n",
    "import numpy as np\n",
    "from irregular_object_packing.mesh.transform import scale_and_center_mesh, scale_to_volume\n",
    "from irregular_object_packing.mesh.utils import print_mesh_info\n",
    "from irregular_object_packing.packing import initialize, nlc_optimisation as nlc, chordal_axis_transform as cat\n",
    "from irregular_object_packing.packing.growth_based_optimisation import SimSettings, Optimizer\n",
    "from irregular_object_packing.packing.plots import generate_tinted_colors\n",
    "from importlib import reload"
   ]
  },
  {
   "cell_type": "code",
   "execution_count": 2,
   "metadata": {},
   "outputs": [
    {
     "name": "stdout",
     "output_type": "stream",
     "text": [
      "PolyData (0x16bba6320)\n",
      "  N Cells:    200\n",
      "  N Points:   102\n",
      "  N Strips:   0\n",
      "  X Bounds:   -1.347e+00, 1.347e+00\n",
      "  Y Bounds:   -1.336e+00, 1.336e+00\n",
      "  Z Bounds:   -1.354e+00, 1.354e+00\n",
      "  N Arrays:   0\n",
      "\n",
      "PolyData (0x16bba6320)\n",
      "  N Cells:    100\n",
      "  N Points:   52\n",
      "  N Strips:   0\n",
      "  X Bounds:   -7.467e-01, 7.417e-01\n",
      "  Y Bounds:   -2.110e-01, 2.085e-01\n",
      "  Z Bounds:   -7.464e-01, 7.482e-01\n",
      "  N Arrays:   0\n",
      "\n"
     ]
    }
   ],
   "source": [
    "DATA_FOLDER = \"../data/mesh/\"\n",
    "\n",
    "mesh_volume = 0.5\n",
    "container_volume = 10\n",
    "\n",
    "loaded_mesh = pv.read(DATA_FOLDER + \"RBC_normal.stl\")\n",
    "container = pv.Sphere(radius=1)\n",
    "\n",
    "# Scale the mesh and container to the desired volume\n",
    "container = scale_to_volume(container, container_volume)\n",
    "original_mesh = scale_and_center_mesh(loaded_mesh, mesh_volume)\n",
    "\n",
    "settings = SimSettings(\n",
    "    itn_max=1,\n",
    "    n_scaling_steps=1,\n",
    "    final_scale=0.3,\n",
    "    sample_rate=100,\n",
    "    r=0.3\n",
    "    # plot_intermediate=True,\n",
    ")\n",
    "optimizer = Optimizer(original_mesh, container, settings)\n",
    "optimizer.setup()\n"
   ]
  },
  {
   "attachments": {},
   "cell_type": "markdown",
   "metadata": {},
   "source": [
    "## Optimisation Algorithm\n",
    "\n",
    "The next cell will execute the packing algorithm by calling `optimizer.run()`. This will perform some initial setup based on the settings, it will generate the initial positions and rotations of the objects and it will start the optimisation algorithm. depending on the settings, this can take some time.\n",
    "\n",
    "The optimisation works as follows:\n",
    "\n",
    "First, the scaling barrier values are determined. These are the limits to which scale the objects can grow in each step (Described in 4.2.2 and Algorithm 1 in the paper). The scaling_barrier values are determined by the `n_scaling_steps` and the `final_scale` parameter. The default value is 0.1, which means that the objects can grow by 10% in each scaling step.\n",
    "\n",
    "Then for each scaling step, the following itteration is performed `itn_max` times. In each iteration, the following steps are performed:\n",
    "\n",
    "_The code can be found here: [irregular-object-packing/packing/growth_based_optimisation.py](../irregular_object_packing/packing/growth_based_optimisation.py)_\n",
    "\n",
    "### step 1: Compute the CAT cells\n",
    "\n",
    "```Python\n",
    "        # TRANSFORM MESHES TO OBJECT COORDINATES, SCALE, ROTATION\n",
    "        obj_points = [\n",
    "            trimesh.transform_points(self.shape.points.copy(), nlc.construct_transform_matrix(transform_data))\n",
    "            for transform_data in self.tf_arrs\n",
    "        ]\n",
    "\n",
    "        # COMPUTE CAT CELLS\n",
    "        self.cat_data = cat.compute_cat_cells(obj_points, self.container.points, self.object_coords)\n",
    "```\n",
    "\n",
    "### Step 2: Compute the new optimal transform\n",
    "\n",
    "```Python\n",
    "        for obj_id, transform_data_i in enumerate(self.tf_arrs):\n",
    "        tf_arr = optimal_local_transform(\n",
    "            obj_id,\n",
    "            self.cat_data,\n",
    "            scale_bound=(self.settings.init_f, None),\n",
    "            max_angle=self.settings.max_a,\n",
    "            max_t=self.settings.max_t,\n",
    "            margin=self.margin,\n",
    "        )\n",
    "\n",
    "        new_tf = transform_data_i + tf_arr\n",
    "        new_scale = new_tf[0]\n",
    "        if new_scale > max_scale:\n",
    "            new_tf[0] = max_scale\n",
    "```\n",
    "\n",
    "The `local_optimisation` function is the core of the optimisation algorithm. It performs the following steps:\n",
    "\n",
    "1. compute the new optimal transform using the non-linear constraint optimisation based on a local coordinate system\n",
    "2. update the transformation based on the new optimal transform.\n",
    "3. setting the new object coordinates.\n"
   ]
  },
  {
   "cell_type": "code",
   "execution_count": 3,
   "metadata": {},
   "outputs": [
    {
     "data": {
      "application/vnd.jupyter.widget-view+json": {
       "model_id": "4968c8f56f11423385f9cc565decdd3d",
       "version_major": 2,
       "version_minor": 0
      },
      "text/plain": [
       "scaling \t:   0%|          | 0/1 [00:00<?, ?it/s]"
      ]
     },
     "metadata": {},
     "output_type": "display_data"
    },
    {
     "data": {
      "application/vnd.jupyter.widget-view+json": {
       "model_id": "5b6a58334b594dd4be74c47130959683",
       "version_major": 2,
       "version_minor": 0
      },
      "text/plain": [
       "Iteration\t:   0%|          | 0/1 [00:00<?, ?it/s]"
      ]
     },
     "metadata": {},
     "output_type": "display_data"
    },
    {
     "data": {
      "application/vnd.jupyter.widget-view+json": {
       "model_id": "231efcbd2d3a4151a5a916d5a885a3f3",
       "version_major": 2,
       "version_minor": 0
      },
      "text/plain": [
       "Object\t:   0%|          | 0/7 [00:00<?, ?it/s]"
      ]
     },
     "metadata": {},
     "output_type": "display_data"
    },
    {
     "name": "stderr",
     "output_type": "stream",
     "text": [
      "/opt/homebrew/anaconda3/envs/irop/lib/python3.10/site-packages/pyvista/core/dataset.py:2668: PyVistaDeprecationWarning: `cell_points` is deprecated. Use `cell[i].points` instead\n",
      "  warnings.warn(\n"
     ]
    }
   ],
   "source": [
    "optimizer.run()\n"
   ]
  },
  {
   "attachments": {},
   "cell_type": "markdown",
   "metadata": {},
   "source": [
    "## Visualisation\n",
    "\n",
    "The following cell shows a visualisation of the final result.\n"
   ]
  },
  {
   "cell_type": "code",
   "execution_count": 4,
   "metadata": {},
   "outputs": [
    {
     "data": {
      "application/vnd.jupyter.widget-view+json": {
       "model_id": "37f2f02db4364938b514bece2d1818c4",
       "version_major": 2,
       "version_minor": 0
      },
      "text/plain": [
       "Widget(value=\"<iframe src='http://localhost:65346/index.html?ui=P_0x16be33a90_0&reconnect=auto' style='width: …"
      ]
     },
     "metadata": {},
     "output_type": "display_data"
    }
   ],
   "source": [
    "plotter = Plotter()\n",
    "tints = generate_tinted_colors(optimizer.n_objs)\n",
    "\n",
    "for i, mesh in enumerate(optimizer.final_meshes_after(optimizer.shape)):\n",
    "    plotter.add_mesh(mesh, color=tints[1][i], opacity=0.8)\n",
    "\n",
    "for i, mesh in enumerate(optimizer.final_cat_meshes()):\n",
    "    plotter.add_mesh(mesh, color=tints[0][i], opacity=0.5)\n",
    "\n",
    "plotter.add_mesh(optimizer.container, color=\"grey\", opacity=0.3)\n",
    "# plotter.add_mesh(optimizer.container, color=\"grey\", opacity=0.2)\n",
    "\n",
    "plotter.show(\n",
    "    interactive=False,\n",
    ")\n"
   ]
  },
  {
   "cell_type": "code",
   "execution_count": 5,
   "metadata": {},
   "outputs": [
    {
     "data": {
      "application/vnd.jupyter.widget-view+json": {
       "model_id": "ace9035df11847d58314f8c1395e4184",
       "version_major": 2,
       "version_minor": 0
      },
      "text/plain": [
       "Widget(value=\"<iframe src='http://localhost:65346/index.html?ui=P_0x16ceb1120_2&reconnect=auto' style='width: …"
      ]
     },
     "metadata": {},
     "output_type": "display_data"
    },
    {
     "data": {
      "text/plain": [
       "<pyvista.plotting.plotting.Plotter at 0x16ceb1120>"
      ]
     },
     "execution_count": 5,
     "metadata": {},
     "output_type": "execute_result"
    }
   ],
   "source": [
    "import irregular_object_packing.packing.plots as plots\n",
    "from importlib import reload\n",
    "reload(plots)\n",
    "object_id = 1\n",
    "iteration = 0\n",
    "second = 1\n",
    "\n",
    "# cat_cell_mesh_1 = cat.cat_mesh_from_data(optimizer.cat_log[second], object_id)\n",
    "\n",
    "\n",
    "plots.plot_step_comparison(\n",
    "    optimizer.mesh_before(iteration, object_id, optimizer.shape),\n",
    "    optimizer.mesh_after(iteration, object_id, optimizer.shape),\n",
    "    optimizer.cat_mesh(iteration, object_id),\n",
    ")\n"
   ]
  },
  {
   "cell_type": "code",
   "execution_count": 7,
   "metadata": {},
   "outputs": [
    {
     "data": {
      "application/vnd.jupyter.widget-view+json": {
       "model_id": "f42b1809edfa47c48ab19585a300ce51",
       "version_major": 2,
       "version_minor": 0
      },
      "text/plain": [
       "Widget(value=\"<iframe src='http://localhost:65346/index.html?ui=P_0x16bc34bb0_4&reconnect=auto' style='width: …"
      ]
     },
     "metadata": {},
     "output_type": "display_data"
    }
   ],
   "source": [
    "# Plotting the final step before and after optimization\n",
    "plots.plot_full_comparison(\n",
    "    optimizer.final_meshes_before(optimizer.shape),\n",
    "    optimizer.final_meshes_after(optimizer.shape),\n",
    "    optimizer.final_cat_meshes(),\n",
    "    optimizer.container,\n",
    ").show()\n"
   ]
  },
  {
   "cell_type": "code",
   "execution_count": null,
   "metadata": {},
   "outputs": [],
   "source": []
  }
 ],
 "metadata": {
  "kernelspec": {
   "display_name": "taichi310",
   "language": "python",
   "name": "python3"
  },
  "language_info": {
   "codemirror_mode": {
    "name": "ipython",
    "version": 3
   },
   "file_extension": ".py",
   "mimetype": "text/x-python",
   "name": "python",
   "nbconvert_exporter": "python",
   "pygments_lexer": "ipython3",
   "version": "3.10.10"
  },
  "orig_nbformat": 4
 },
 "nbformat": 4,
 "nbformat_minor": 2
}
