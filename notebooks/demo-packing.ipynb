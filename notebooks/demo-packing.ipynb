{
 "cells": [
  {
   "cell_type": "code",
   "execution_count": 1,
   "metadata": {},
   "outputs": [],
   "source": [
    "import sys\n",
    "sys.path.append('../')\n",
    "\n",
    "import trimesh\n",
    "import pyvista as pv\n",
    "from pyvista import PolyData, Plotter\n",
    "import numpy as np\n",
    "from irregular_object_packing.mesh.transform import scale_and_center_mesh, scale_to_volume\n",
    "# from irregular_object_packing.mesh.utils import print_mesh_info\n",
    "# from irregular_object_packing.packing import initialize, nlc_optimisation as nlc, chordal_axis_transform as cat\n",
    "# from irregular_object_packing.packing.growth_based_optimisation import SimSettings, Optimizer\n",
    "# from irregular_object_packing.packing.plots import generate_tinted_colors\n",
    "from importlib import reload"
   ]
  },
  {
   "cell_type": "code",
   "execution_count": 2,
   "metadata": {},
   "outputs": [
    {
     "data": {
      "application/vnd.jupyter.widget-view+json": {
       "model_id": "5347168bc6104d80b1ffad696b48badd",
       "version_major": 2,
       "version_minor": 0
      },
      "text/plain": [
       "Widget(value=\"<iframe src='http://localhost:55167/index.html?ui=P_0x156259d80_0&reconnect=auto' style='width: …"
      ]
     },
     "metadata": {},
     "output_type": "display_data"
    }
   ],
   "source": [
    "from irregular_object_packing.packing.optimizer import default_optimizer_config\n",
    "\n",
    "\n",
    "DATA_FOLDER = \"../data/mesh/\"\n",
    "\n",
    "optimizer = default_optimizer_config(N=10, mesh_dir=DATA_FOLDER)\n",
    "optimizer.setup()\n",
    "optimizer.resample_meshes(0.1)\n",
    "plotter = Plotter(shape=(1, 2), border=False)\n",
    "plotter.subplot(0, 0)\n",
    "plotter.add_mesh(optimizer.shape0, color=\"red\")\n",
    "plotter.isometric_view()\n",
    "camera = plotter.camera\n",
    "plotter.subplot(0, 1)\n",
    "plotter.add_mesh(optimizer.shape0.scale(0.1**(1/3)), color=\"red\")\n",
    "plotter.camera = camera\n",
    "plotter.save_graphic(\"renders/packing-init-shrink.pdf\")\n",
    "plotter.show()\n"
   ]
  },
  {
   "cell_type": "code",
   "execution_count": 3,
   "metadata": {},
   "outputs": [
    {
     "data": {
      "application/vnd.jupyter.widget-view+json": {
       "model_id": "135bf3e7f83644518d0e4bd62f5ec7ad",
       "version_major": 2,
       "version_minor": 0
      },
      "text/plain": [
       "Widget(value=\"<iframe src='http://localhost:55167/index.html?ui=P_0x1520ded40_1&reconnect=auto' style='width: …"
      ]
     },
     "metadata": {},
     "output_type": "display_data"
    }
   ],
   "source": [
    "plotter = Plotter(shape=(1, 2), border=False)\n",
    "plotter.subplot(0, 0)\n",
    "plotter.add_mesh(optimizer.shape0, color=\"red\", show_edges=True)\n",
    "plotter.isometric_view()\n",
    "camera = plotter.camera\n",
    "plotter.subplot(0, 1)\n",
    "plotter.add_mesh(optimizer.shape, color=\"red\", show_edges=True)\n",
    "plotter.camera = camera\n",
    "plotter.save_graphic(\"renders/packing-init-resample.pdf\")\n",
    "plotter.show()"
   ]
  },
  {
   "cell_type": "code",
   "execution_count": 4,
   "metadata": {},
   "outputs": [
    {
     "data": {
      "application/vnd.jupyter.widget-view+json": {
       "model_id": "d0796467c259486a9ed7b0888421d850",
       "version_major": 2,
       "version_minor": 0
      },
      "text/plain": [
       "Widget(value=\"<iframe src='http://localhost:55167/index.html?ui=P_0x11078ea40_2&reconnect=auto' style='width: …"
      ]
     },
     "metadata": {},
     "output_type": "display_data"
    }
   ],
   "source": [
    "plotter = optimizer.plotter.plot_objects()\n",
    "plotter.open_gif(\"renders/packing-init.gif\")\n",
    "path = plotter.generate_orbital_path(n_points = 60)\n",
    "plotter.orbit_on_path(path, write_frames=True)\n",
    "plotter.close()\n"
   ]
  },
  {
   "cell_type": "code",
   "execution_count": null,
   "metadata": {},
   "outputs": [],
   "source": [
    "from irregular_object_packing.cat.chordal_axis_transform import compute_cdt\n",
    "\n",
    "meshes = optimizer.meshes_before(0)\n",
    "tetmesh = compute_cdt(meshes+[optimizer.container])\n",
    "plotter = Plotter()\n",
    "for mesh in meshes:\n",
    "    plotter.add_mesh(mesh, color=\"red\", show_edges=True, line_width=2)\n",
    "plotter.add_mesh_clip_plane(tetmesh, color=\"grey\", show_edges=True, line_width=2, crinkle=0.5)\n",
    "plotter.show()\n",
    "\n"
   ]
  },
  {
   "cell_type": "code",
   "execution_count": 5,
   "metadata": {},
   "outputs": [
    {
     "data": {
      "application/vnd.jupyter.widget-view+json": {
       "model_id": "aed565cebb2f40ab8c135e42c07cc11c",
       "version_major": 2,
       "version_minor": 0
      },
      "text/plain": [
       "scale\t:   0%|          | 0/9 [00:00<?, ?it/s]"
      ]
     },
     "metadata": {},
     "output_type": "display_data"
    },
    {
     "data": {
      "application/vnd.jupyter.widget-view+json": {
       "model_id": "2c3f6cb3623a4c87a5ea8ec49203b9a0",
       "version_major": 2,
       "version_minor": 0
      },
      "text/plain": [
       "Iteration\t:   0%|          | 0/100 [00:00<?, ?it/s]"
      ]
     },
     "metadata": {},
     "output_type": "display_data"
    },
    {
     "data": {
      "application/vnd.jupyter.widget-view+json": {
       "model_id": "e755d85a5aee49ed9a43e3ad25dd5ed5",
       "version_major": 2,
       "version_minor": 0
      },
      "text/plain": [
       "Object\t:   0%|          | 0/11 [00:00<?, ?it/s]"
      ]
     },
     "metadata": {},
     "output_type": "display_data"
    }
   ],
   "source": [
    "optimizer.run(Ni=1)"
   ]
  },
  {
   "cell_type": "code",
   "execution_count": 6,
   "metadata": {},
   "outputs": [],
   "source": [
    "meshes_before, meshes_after, cat_meshes, container = optimizer.recreate_scene(optimizer.idx)\n",
    "plotter = Plotter(shape=(1, 2), border=False)\n",
    "plotter.subplot(0, 0)\n",
    "for mesh in meshes_before:\n",
    "    plotter.add_mesh(mesh, color=\"red\", )\n",
    "\n",
    "for cat_mesh in cat_meshes:\n",
    "    plotter.add_mesh(cat_mesh, color=\"yellow\", opacity=0.3)\n",
    "\n",
    "plotter.add_mesh(container, color=\"white\", opacity=0.2)\n",
    "\n",
    "\n",
    "plotter.subplot(0, 1)\n",
    "for mesh in meshes_after:\n",
    "    plotter.add_mesh(mesh, color=\"red\", )\n",
    "\n",
    "for cat_mesh in cat_meshes:\n",
    "    plotter.add_mesh(cat_mesh, color=\"yellow\", opacity=0.3)\n",
    "\n",
    "plotter.add_mesh(container, color=\"white\", opacity=0.2)\n",
    "\n",
    "plotter.link_views()\n",
    "plotter.isometric_view()\n",
    "plotter.camera.zoom(1.2)\n",
    "plotter.open_gif(\"renders/packing-first-step.gif\")\n",
    "path = plotter.generate_orbital_path(n_points = 60)\n",
    "plotter.orbit_on_path(path, write_frames=True)\n",
    "plotter.close()"
   ]
  },
  {
   "cell_type": "code",
   "execution_count": 28,
   "metadata": {},
   "outputs": [
    {
     "data": {
      "application/vnd.jupyter.widget-view+json": {
       "model_id": "bb922839c9c746eca9d0fc9c552b64ab",
       "version_major": 2,
       "version_minor": 0
      },
      "text/plain": [
       "scale\t:  56%|#####5    | 5/9 [00:00<?, ?it/s]"
      ]
     },
     "metadata": {},
     "output_type": "display_data"
    },
    {
     "data": {
      "application/vnd.jupyter.widget-view+json": {
       "model_id": "fd3dba184d3f4266b7e4ad2faaada2d6",
       "version_major": 2,
       "version_minor": 0
      },
      "text/plain": [
       "Iteration\t:  41%|####1     | 41/100 [00:00<?, ?it/s]"
      ]
     },
     "metadata": {},
     "output_type": "display_data"
    },
    {
     "data": {
      "application/vnd.jupyter.widget-view+json": {
       "model_id": "b601654be8184ab19bfd411b0c8745b1",
       "version_major": 2,
       "version_minor": 0
      },
      "text/plain": [
       "Object\t:   0%|          | 0/11 [00:00<?, ?it/s]"
      ]
     },
     "metadata": {},
     "output_type": "display_data"
    },
    {
     "name": "stderr",
     "output_type": "stream",
     "text": [
      "/opt/homebrew/Caskroom/miniconda/base/envs/irop/lib/python3.10/site-packages/scipy/optimize/_optimize.py:353: RuntimeWarning: Values in x were outside bounds during a minimize step, clipping to bounds\n",
      "  warnings.warn(\"Values in x were outside bounds during a \"\n"
     ]
    }
   ],
   "source": [
    "optimizer.run(Ni=300)"
   ]
  },
  {
   "cell_type": "code",
   "execution_count": 30,
   "metadata": {},
   "outputs": [],
   "source": [
    "optimizer.plotter.generate_gif(\"renders/packing.gif\")"
   ]
  },
  {
   "cell_type": "code",
   "execution_count": 22,
   "metadata": {},
   "outputs": [
    {
     "data": {
      "application/vnd.jupyter.widget-view+json": {
       "model_id": "2c177aca8c744412a34aa9daf59cea19",
       "version_major": 2,
       "version_minor": 0
      },
      "text/plain": [
       "Widget(value=\"<iframe src='http://localhost:55167/index.html?ui=P_0x2812c0ac0_15&reconnect=auto' style='width:…"
      ]
     },
     "metadata": {},
     "output_type": "display_data"
    }
   ],
   "source": [
    "\n",
    "plotter = Plotter(shape=(3, 1), border=False)\n",
    "plotter.subplot(0, 0)\n",
    "idx = 0 # first scale\n",
    "meshes_before, meshes_after, cat_meshes, container = optimizer.recreate_scene(idx)\n",
    "for mesh in meshes_before:\n",
    "    plotter.add_mesh(mesh, color=\"red\", )\n",
    "\n",
    "plotter.add_mesh(container, color=\"white\", opacity=0.2)\n",
    "\n",
    "idx = 4 # first scale boundary\n",
    "plotter.subplot(1, 0)\n",
    "meshes_before, meshes_after, cat_meshes, container = optimizer.recreate_scene(idx)\n",
    "for mesh in meshes_after:\n",
    "    plotter.add_mesh(mesh, color=\"red\", )\n",
    "plotter.add_mesh(container, color=\"white\", opacity=0.2)\n",
    "\n",
    "idx = 16 # second scale\n",
    "plotter.subplot(2, 0)\n",
    "meshes_before, meshes_after, cat_meshes, container = optimizer.recreate_scene(idx)\n",
    "for mesh in meshes_after:\n",
    "    plotter.add_mesh(mesh, color=\"red\", )\n",
    "plotter.add_mesh(container, color=\"white\", opacity=0.2)\n",
    "\n",
    "plotter.link_views()\n",
    "plotter.isometric_view()\n",
    "plotter.camera.zoom(1.3)\n",
    "plotter.save_graphic(\"renders/packing-scale_steps123_vert.pdf\")\n",
    "plotter.show()"
   ]
  },
  {
   "cell_type": "code",
   "execution_count": 24,
   "metadata": {},
   "outputs": [
    {
     "data": {
      "application/vnd.jupyter.widget-view+json": {
       "model_id": "b5bdd5ccee124d13985caa890c61100e",
       "version_major": 2,
       "version_minor": 0
      },
      "text/plain": [
       "Widget(value=\"<iframe src='http://localhost:55167/index.html?ui=P_0x30c6939d0_17&reconnect=auto' style='width:…"
      ]
     },
     "metadata": {},
     "output_type": "display_data"
    }
   ],
   "source": [
    "\n",
    "plotter = Plotter(shape=(3, 1), border=False)\n",
    "plotter.subplot(0, 0)\n",
    "idx = 28 # first scale\n",
    "meshes_before, meshes_after, cat_meshes, container = optimizer.recreate_scene(idx)\n",
    "for mesh in meshes_after:\n",
    "    plotter.add_mesh(mesh, color=\"red\", )\n",
    "\n",
    "plotter.add_mesh(container, color=\"white\", opacity=0.2)\n",
    "\n",
    "idx = 37 # first scale boundary\n",
    "plotter.subplot(1, 0)\n",
    "meshes_before, meshes_after, cat_meshes, container = optimizer.recreate_scene(idx)\n",
    "for mesh in meshes_after:\n",
    "    plotter.add_mesh(mesh, color=\"red\", )\n",
    "plotter.add_mesh(container, color=\"white\", opacity=0.2)\n",
    "\n",
    "idx = 58 # second scale\n",
    "plotter.subplot(2, 0)\n",
    "meshes_before, meshes_after, cat_meshes, container = optimizer.recreate_scene(idx)\n",
    "for mesh in meshes_after:\n",
    "    plotter.add_mesh(mesh, color=\"red\", )\n",
    "plotter.add_mesh(container, color=\"white\", opacity=0.2)\n",
    "\n",
    "plotter.link_views()\n",
    "plotter.isometric_view()\n",
    "plotter.camera.zoom(1.3)\n",
    "plotter.save_graphic(\"renders/packing-scale_steps456.pdf\")\n",
    "plotter.show()"
   ]
  },
  {
   "cell_type": "code",
   "execution_count": 27,
   "metadata": {},
   "outputs": [
    {
     "data": {
      "application/vnd.jupyter.widget-view+json": {
       "model_id": "8766a76b1ef646d4a6a993ce5d9cfc9e",
       "version_major": 2,
       "version_minor": 0
      },
      "text/plain": [
       "Widget(value=\"<iframe src='http://localhost:55167/index.html?ui=P_0x3921997e0_20&reconnect=auto' style='width:…"
      ]
     },
     "metadata": {},
     "output_type": "display_data"
    }
   ],
   "source": [
    "from irregular_object_packing.cat.chordal_axis_transform import compute_cdt\n",
    "\n",
    "meshes = optimizer.meshes_before(0)\n",
    "tetmesh = compute_cdt(meshes+[optimizer.container])\n",
    "plotter = Plotter()\n",
    "for mesh in meshes:\n",
    "    plotter.add_mesh(mesh, color=\"red\", show_edges=True, line_width=1)\n",
    "plotter.add_mesh_clip_plane(tetmesh, color=\"grey\", show_edges=True, edge_color=\"grey\", line_width=2, crinkle=0.5)\n",
    "plotter.view_vector((1,1,0))\n",
    "plotter.show()"
   ]
  },
  {
   "cell_type": "code",
   "execution_count": null,
   "metadata": {},
   "outputs": [],
   "source": []
  }
 ],
 "metadata": {
  "kernelspec": {
   "display_name": "taichi310",
   "language": "python",
   "name": "python3"
  },
  "language_info": {
   "codemirror_mode": {
    "name": "ipython",
    "version": 3
   },
   "file_extension": ".py",
   "mimetype": "text/x-python",
   "name": "python",
   "nbconvert_exporter": "python",
   "pygments_lexer": "ipython3",
   "version": "3.10.11"
  },
  "orig_nbformat": 4
 },
 "nbformat": 4,
 "nbformat_minor": 2
}
