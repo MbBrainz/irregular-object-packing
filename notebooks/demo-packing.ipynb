{
 "cells": [
  {
   "cell_type": "code",
   "execution_count": 1,
   "metadata": {},
   "outputs": [
    {
     "name": "stdout",
     "output_type": "stream",
     "text": [
      "Mesh info loaded mesh: <trimesh.Trimesh(vertices.shape=(642, 3), faces.shape=(1280, 3))>, \n",
      "volume: 71.04896973139347, \n",
      "bounding box: [[35.089 37.963 35.089]\n",
      " [42.911 40.037 42.911]] \n",
      "center of mass: [39. 39. 39.]\n",
      "\n",
      "Mesh info scaled mesh: <trimesh.Trimesh(vertices.shape=(642, 3), faces.shape=(1280, 3))>, \n",
      "volume: 0.10000000000000006, \n",
      "bounding box: [[-0.4383 -0.1162 -0.4383]\n",
      " [ 0.4383  0.1162  0.4383]] \n",
      "center of mass: [-0. -0. -0.]\n",
      "\n",
      "Mesh info original container: <trimesh.primitives.Sphere>, \n",
      "volume: 4.1887902047863905, \n",
      "bounding box: [[-1. -1. -1.]\n",
      " [ 1.  1.  1.]] \n",
      "center of mass: [-0.  0.  0.]\n",
      "\n",
      "Mesh info scaled container: <trimesh.primitives.Sphere>, \n",
      "volume: 9.999999999999996, \n",
      "bounding box: [[-1.3365 -1.3365 -1.3365]\n",
      " [ 1.3365  1.3365  1.3365]] \n",
      "center of mass: [0. 0. 0.]\n",
      "\n"
     ]
    }
   ],
   "source": [
    "import trimesh\n",
    "import numpy as np\n",
    "from irregular_object_packing.mesh.transform import scale_and_center_mesh, scale_to_volume\n",
    "from irregular_object_packing.mesh.utils import print_mesh_info\n",
    "from irregular_object_packing.packing import initialize, nlc_optimisation as nlc, chordal_axis_transform as cat\n",
    "from irregular_object_packing.packing.growth_based_optimisation import SimSettings, Optimizer\n",
    "\n",
    "mesh_volume = 0.1\n",
    "container_volume = 10\n",
    "coverage_rate = 0.3\n",
    "\n",
    "DATA_FOLDER = \"../data/mesh/\"\n",
    "loaded_mesh = trimesh.load_mesh(DATA_FOLDER + \"RBC_normal.stl\")\n",
    "print_mesh_info(loaded_mesh, \"loaded mesh\")\n",
    "# trimesh.Scene([loaded_mesh]).show()\n",
    "# Scale the mesh to the desired volume\n",
    "original_mesh = scale_and_center_mesh(loaded_mesh, mesh_volume)\n",
    "print_mesh_info(original_mesh, \"scaled mesh\")\n",
    "\n",
    "container = trimesh.primitives.Sphere(radius=1, center=[0, 0, 0])\n",
    "# container = trimesh.primitives.Cylinder(radius=1, height=1)\n",
    "print_mesh_info(container, \"original container\")\n",
    "\n",
    "container = scale_to_volume(container, container_volume)\n",
    "print_mesh_info(container, \"scaled container\")"
   ]
  },
  {
   "cell_type": "code",
   "execution_count": 2,
   "metadata": {},
   "outputs": [
    {
     "name": "stderr",
     "output_type": "stream",
     "text": [
      "Iteration: 100%|██████████| 2/2 [01:35<00:00, 47.85s/it, obj_id=29]      \n"
     ]
    }
   ],
   "source": [
    "settings = SimSettings(sample_rate=50, max_angle=1 / 12 * np.pi, max_t=None, initial_scale=0.1, i_max=2)\n",
    "Optimizer = Optimizer([original_mesh], container, settings)\n",
    "\n",
    "Optimizer.run()\n"
   ]
  },
  {
   "cell_type": "code",
   "execution_count": 3,
   "metadata": {},
   "outputs": [
    {
     "data": {
      "application/vnd.jupyter.widget-view+json": {
       "model_id": "d1d41ae855ab4a689d49e29df60ece83",
       "version_major": 2,
       "version_minor": 0
      },
      "text/plain": [
       "ViewInteractiveWidget(height=768, layout=Layout(height='auto', width='100%'), width=1024)"
      ]
     },
     "metadata": {},
     "output_type": "display_data"
    },
    {
     "name": "stdout",
     "output_type": "stream",
     "text": [
      "[ 0.1         1.99849897 -2.38022961 -3.05599584  1.07926535 -0.28181582\n",
      "  0.25609046]\n",
      "[ 0.14233444  2.01826334 -2.11140045 -3.02325159  1.07926535 -0.25208199\n",
      "  0.28707255]\n"
     ]
    }
   ],
   "source": [
    "from irregular_object_packing.packing.plots import plot_state, plot_step_comparison\n",
    "\n",
    "iteration = 1\n",
    "test_k = 0\n",
    "cat_cell_mesh_0 = cat.cat_mesh_from_data(Optimizer.cat_log[0], test_k)\n",
    "cat_cell_mesh_1 = cat.cat_mesh_from_data(Optimizer.cat_log[iteration], test_k)\n",
    "\n",
    "plot_step_comparison(\n",
    "    original_mesh,\n",
    "    [Optimizer.transform_log[0][test_k], Optimizer.transform_log[iteration][test_k]],\n",
    "    cat_cell_mesh_0,\n",
    "    cat_cell_mesh_1,\n",
    ")\n",
    "\n",
    "# %%\n",
    "test_k = 0\n",
    "print(Optimizer.transform_log[0][test_k])\n",
    "print(Optimizer.transform_data[test_k])\n"
   ]
  },
  {
   "cell_type": "code",
   "execution_count": 4,
   "metadata": {},
   "outputs": [
    {
     "data": {
      "application/vnd.jupyter.widget-view+json": {
       "model_id": "3d2891a9f6cd444d8985aeedda769349",
       "version_major": 2,
       "version_minor": 0
      },
      "text/plain": [
       "ViewInteractiveWidget(height=768, layout=Layout(height='auto', width='100%'), width=1024)"
      ]
     },
     "metadata": {},
     "output_type": "display_data"
    }
   ],
   "source": [
    "\n",
    "# Plot of the final packing\n",
    "import pyvista as pv\n",
    "from irregular_object_packing.packing.plots import create_plot, plot_state\n",
    "\n",
    "plot_state(Optimizer)\n"
   ]
  }
 ],
 "metadata": {
  "kernelspec": {
   "display_name": "taichi310",
   "language": "python",
   "name": "python3"
  },
  "language_info": {
   "codemirror_mode": {
    "name": "ipython",
    "version": 3
   },
   "file_extension": ".py",
   "mimetype": "text/x-python",
   "name": "python",
   "nbconvert_exporter": "python",
   "pygments_lexer": "ipython3",
   "version": "3.10.9"
  },
  "orig_nbformat": 4
 },
 "nbformat": 4,
 "nbformat_minor": 2
}
