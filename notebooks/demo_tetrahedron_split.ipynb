{
 "cells": [
  {
   "cell_type": "code",
   "execution_count": 2,
   "metadata": {},
   "outputs": [],
   "source": [
    "import numpy as np\n",
    "import pyvista as pv\n",
    "from irregular_object_packing.performance_analysis import plots\n",
    "from irregular_object_packing.cat.tetrahedral_split import (\n",
    "    split_2_2222,\n",
    "    split_2_3331,\n",
    "    split_3,\n",
    "    split_4,\n",
    "\n",
    ")\n"
   ]
  },
  {
   "cell_type": "code",
   "execution_count": 16,
   "metadata": {},
   "outputs": [
    {
     "data": {
      "application/vnd.jupyter.widget-view+json": {
       "model_id": "5a4a7b8c728e4b9b9aa26efa966fbb9a",
       "version_major": 2,
       "version_minor": 0
      },
      "text/plain": [
       "Widget(value=\"<iframe src='http://localhost:53368/index.html?ui=P_0x17fe3a350_12&reconnect=auto' style='width:…"
      ]
     },
     "metadata": {},
     "output_type": "display_data"
    }
   ],
   "source": [
    "cylinder = pv.Cylinder(height=2)\n",
    "plotter = pv.Plotter()\n",
    "plotter.add_mesh(cylinder, color=\"white\", opacity=0.5)\n",
    "plotter.add_mesh(pv.Box(cylinder.bounds).extract_all_edges(), color=\"black\")\n",
    "plotter.isometric_view()\n",
    "plotter.save_graphic(\"renders/cylinder.pdf\")\n",
    "plotter.show(interactive=False)\n"
   ]
  },
  {
   "cell_type": "code",
   "execution_count": 4,
   "metadata": {},
   "outputs": [
    {
     "data": {
      "application/vnd.jupyter.widget-view+json": {
       "model_id": "5a94a52a042345b4870b413c752a7b7d",
       "version_major": 2,
       "version_minor": 0
      },
      "text/plain": [
       "Widget(value=\"<iframe src='http://localhost:60863/index.html?ui=P_0x105994af0_1&reconnect=auto' style='width: …"
      ]
     },
     "metadata": {},
     "output_type": "display_data"
    }
   ],
   "source": [
    "from itertools import combinations\n",
    "\n",
    "from irregular_object_packing.mesh.utils import convert_faces_to_polydata_input\n",
    "\n",
    "\n",
    "tet1 = np.array([ # faces allign with axis\n",
    "    [0, 0, 0],\n",
    "    [1, 0, 0],\n",
    "    [0, 1, 0],\n",
    "    [0, 0, 1],\n",
    "])\n",
    "tet1 = pv.Tetrahedron().points\n",
    "\n",
    "tet2 = np.array([ # pointy end alligns with axis\n",
    "    [0, 0, 0],\n",
    "    [1, 0, 0],\n",
    "    [0, 1, 0],\n",
    "    [0, 0, 5],\n",
    "])\n",
    "tet3 = np.array([ # pointy flat equilateral\n",
    "    [0, 0, 0],\n",
    "    [1, 0, 0],\n",
    "    [0.5, 0.866, 0],\n",
    "    [0.5, 0.288, 0.1],\n",
    "])\n",
    "tet4 = np.array([ # \n",
    "    [0, 0, 0],\n",
    "    [5, 0, 0],\n",
    "    [0, 1, 0],\n",
    "    [0, 0, 5],\n",
    "])\n",
    "def mesh_from_tet(tet:np.ndarray): \n",
    "    faces = list(combinations(tet, 3))\n",
    "    return pv.PolyData(*convert_faces_to_polydata_input(faces))\n",
    "\n",
    "    \n",
    "plotter = pv.Plotter()\n",
    "plotter.add_mesh(mesh_from_tet(tet1), color='white',  opacity=0.5)\n",
    "plotter.add_mesh(mesh_from_tet(tet1).extract_all_edges(), color='black',show_edges=True, edge_color=\"black\", line_width=5,  opacity=1)\n",
    "plotter.view_isometric()\n",
    "plotter.view_vector((-1,-1,2))\n",
    "plotter.show()\n",
    "plotter.save_graphic('renders/tet.pdf')"
   ]
  },
  {
   "cell_type": "code",
   "execution_count": 3,
   "metadata": {},
   "outputs": [],
   "source": [
    "from matplotlib.colors import hex2color\n",
    "from irregular_object_packing.mesh.utils import convert_faces_to_polydata_input\n",
    "\n",
    "colorslist = [\n",
    "    [\"red\", \"red\", \"blue\", \"blue\"],\n",
    "    [\"red\", \"red\", \"red\", \"blue\"],\n",
    "    [\"red\", \"red\", \"blue\", \"green\"],\n",
    "    [\"red\", \"green\", \"blue\", \"yellow\"]\n",
    "]\n",
    "viewup = (-1,-1,1)\n",
    "splits = [ split_2_2222, split_2_3331, split_3, split_4 ]\n",
    "tets = [ tet1,]#tet2, ]\n",
    "\n",
    "# plotter = pv.Plotter(shape = (len(tets),len(splits)),)\n",
    "for i, split in enumerate(splits):\n",
    "    for j, tet in enumerate(tets):\n",
    "        plotter =  pv.Plotter()\n",
    "        # plotter.subplot(j,i)\n",
    "        faces = split(tet)\n",
    "        colors = colorslist[i]\n",
    "        color_id = 0\n",
    "        \n",
    "        plotter.add_mesh(mesh_from_tet(tet).extract_all_edges(), color=\"black\", show_edges=True, line_width=5,  opacity=1)\n",
    "        plotter.add_mesh(mesh_from_tet(tet), color=\"white\", opacity=0.1)\n",
    "        for k, face in enumerate(faces):\n",
    "            plotter.add_points(np.array([tet[k]]), color=colors[k], point_size=25, render_points_as_spheres=True, opacity=1)\n",
    "        plotter.view_isometric()\n",
    "        plotter.view_vector((1,1,2))\n",
    "        plotter.save_graphic(f\"renders/tet_{split.__name__}_points.pdf\")\n",
    "        \n",
    "        for k, face in enumerate(faces):\n",
    "            plotter.add_mesh(pv.PolyData(*convert_faces_to_polydata_input(face)), color='#D3D3D3', edge_color='purple', show_edges=True, show_vertices=True,point_size=10, render_points_as_spheres=True,line_width=15, opacity=1)\n",
    "            plotter.add_points(pv.PolyData(*convert_faces_to_polydata_input(face)).points, color='purple', point_size=22, render_points_as_spheres=True, opacity=1)\n",
    "\n",
    "        plotter.view_isometric()\n",
    "        plotter.view_vector((-1,-1,2))\n",
    "        plotter.save_graphic(f\"renders/tet_{split.__name__}.pdf\")\n",
    "\n",
    "        # generate orbital path gif\n",
    "        path = plotter.generate_orbital_path(n_points=60,viewup=viewup,)#shift=0.2)\n",
    "        plotter.open_gif(f\"renders/tet_{split.__name__}.gif\")\n",
    "        plotter.orbit_on_path(path, viewup=viewup, write_frames=True)\n",
    "        plotter.close()\n",
    "\n",
    "        \n",
    "# plotter.show()"
   ]
  },
  {
   "cell_type": "code",
   "execution_count": null,
   "metadata": {},
   "outputs": [],
   "source": []
  }
 ],
 "metadata": {
  "kernelspec": {
   "display_name": "irop",
   "language": "python",
   "name": "python3"
  },
  "language_info": {
   "codemirror_mode": {
    "name": "ipython",
    "version": 3
   },
   "file_extension": ".py",
   "mimetype": "text/x-python",
   "name": "python",
   "nbconvert_exporter": "python",
   "pygments_lexer": "ipython3",
   "version": "3.10.11"
  },
  "orig_nbformat": 4
 },
 "nbformat": 4,
 "nbformat_minor": 2
}
