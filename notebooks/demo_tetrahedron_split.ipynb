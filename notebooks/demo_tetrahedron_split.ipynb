{
 "cells": [
  {
   "cell_type": "code",
   "execution_count": 4,
   "metadata": {},
   "outputs": [],
   "source": [
    "import numpy as np\n",
    "import pyvista as pv\n",
    "from irregular_object_packing.cat.tetrahedral_split import (\n",
    "    split_2_2222,\n",
    "    split_2_3331,\n",
    "    split_3,\n",
    "    split_4,\n",
    "\n",
    ")"
   ]
  },
  {
   "cell_type": "code",
   "execution_count": 22,
   "metadata": {},
   "outputs": [],
   "source": [
    "from itertools import combinations\n",
    "\n",
    "from irregular_object_packing.mesh.utils import convert_faces_to_polydata_input\n",
    "\n",
    "\n",
    "tet1 = np.array([ # faces allign with axis\n",
    "    [0, 0, 0],\n",
    "    [1, 0, 0],\n",
    "    [0, 1, 0],\n",
    "    [0, 0, 1],\n",
    "])\n",
    "tet2 = np.array([ # pointy end alligns with axis\n",
    "    [0, 0, 0],\n",
    "    [1, 0, 0],\n",
    "    [0, 1, 0],\n",
    "    [0, 0, 5],\n",
    "])\n",
    "tet3 = np.array([ # pointy flat equilateral\n",
    "    [0, 0, 0],\n",
    "    [1, 0, 0],\n",
    "    [0.5, 0.866, 0],\n",
    "    [0.5, 0.288, 0.1],\n",
    "])\n",
    "tet4 = np.array([ # \n",
    "    [0, 0, 0],\n",
    "    [5, 0, 0],\n",
    "    [0, 1, 0],\n",
    "    [0, 0, 5],\n",
    "])\n",
    "def mesh_from_tet(tet:np.ndarray): \n",
    "    faces = list(combinations(tet, 3))\n",
    "    return pv.PolyData(*convert_faces_to_polydata_input(faces))\n",
    "\n",
    "    "
   ]
  },
  {
   "cell_type": "code",
   "execution_count": 32,
   "metadata": {},
   "outputs": [
    {
     "name": "stderr",
     "output_type": "stream",
     "text": [
      "/opt/homebrew/Caskroom/miniconda/base/envs/irop/lib/python3.10/site-packages/pyvista/utilities/helpers.py:507: UserWarning: Points is not a float type. This can cause issues when transforming or applying filters. Casting to ``np.float32``. Disable this by passing ``force_float=False``.\n",
      "  warnings.warn(\n"
     ]
    },
    {
     "data": {
      "application/vnd.jupyter.widget-view+json": {
       "model_id": "5fce2328971a40a5b45d9b0249940c9a",
       "version_major": 2,
       "version_minor": 0
      },
      "text/plain": [
       "Widget(value=\"<iframe src='http://localhost:50395/index.html?ui=P_0x2e9e2b520_23&reconnect=auto' style='width:…"
      ]
     },
     "metadata": {},
     "output_type": "display_data"
    }
   ],
   "source": [
    "from irregular_object_packing.mesh.utils import convert_faces_to_polydata_input\n",
    "\n",
    "colors = [\"red\", \"green\", \"blue\", \"yellow\"]\n",
    "splits = [ split_2_2222, split_2_3331, split_3, split_4 ]\n",
    "tets = [ tet1, tet2, ]\n",
    "\n",
    "plotter = pv.Plotter(shape = (len(tets),len(splits)),)\n",
    "for i, split in enumerate(splits):\n",
    "    for j, tet in enumerate(tets):\n",
    "        plotter.subplot(j,i)\n",
    "        faces = split(tet)\n",
    "        for k, face in enumerate(faces):\n",
    "            plotter.add_mesh(pv.PolyData(*convert_faces_to_polydata_input(face)).explode(), color=colors[k])\n",
    "            plotter.add_points(np.array([tet[k]]), color=colors[k])\n",
    "            \n",
    "        plotter.add_mesh(mesh_from_tet(tet), color=\"white\", show_edges=True, opacity=0.8)\n",
    "        \n",
    "plotter.show()"
   ]
  },
  {
   "cell_type": "code",
   "execution_count": null,
   "metadata": {},
   "outputs": [],
   "source": []
  },
  {
   "cell_type": "code",
   "execution_count": 34,
   "metadata": {},
   "outputs": [
    {
     "data": {
      "text/plain": [
       "array([10, 30, 60])"
      ]
     },
     "execution_count": 34,
     "metadata": {},
     "output_type": "execute_result"
    }
   ],
   "source": [
    "np.cumsum([10, 20, 30])"
   ]
  },
  {
   "cell_type": "code",
   "execution_count": null,
   "metadata": {},
   "outputs": [],
   "source": []
  }
 ],
 "metadata": {
  "kernelspec": {
   "display_name": "irop",
   "language": "python",
   "name": "python3"
  },
  "language_info": {
   "codemirror_mode": {
    "name": "ipython",
    "version": 3
   },
   "file_extension": ".py",
   "mimetype": "text/x-python",
   "name": "python",
   "nbconvert_exporter": "python",
   "pygments_lexer": "ipython3",
   "version": "3.10.0"
  },
  "orig_nbformat": 4
 },
 "nbformat": 4,
 "nbformat_minor": 2
}
