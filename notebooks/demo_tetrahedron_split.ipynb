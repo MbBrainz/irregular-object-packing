{
 "cells": [
  {
   "cell_type": "code",
   "execution_count": 1,
   "metadata": {},
   "outputs": [],
   "source": [
    "import numpy as np\n",
    "import pyvista as pv\n",
    "from irregular_object_packing.performance_analysis import plots\n",
    "from irregular_object_packing.cat.tetrahedral_split import (\n",
    "    split_2_2222,\n",
    "    split_2_3331,\n",
    "    split_3,\n",
    "    split_4,\n",
    "\n",
    ")"
   ]
  },
  {
   "cell_type": "code",
   "execution_count": 2,
   "metadata": {},
   "outputs": [],
   "source": [
    "from itertools import combinations\n",
    "\n",
    "from irregular_object_packing.mesh.utils import convert_faces_to_polydata_input\n",
    "\n",
    "\n",
    "tet1 = np.array([ # faces allign with axis\n",
    "    [0, 0, 0],\n",
    "    [1, 0, 0],\n",
    "    [0, 1, 0],\n",
    "    [0, 0, 1],\n",
    "])\n",
    "tet1 = pv.Tetrahedron().points\n",
    "\n",
    "tet2 = np.array([ # pointy end alligns with axis\n",
    "    [0, 0, 0],\n",
    "    [1, 0, 0],\n",
    "    [0, 1, 0],\n",
    "    [0, 0, 5],\n",
    "])\n",
    "tet3 = np.array([ # pointy flat equilateral\n",
    "    [0, 0, 0],\n",
    "    [1, 0, 0],\n",
    "    [0.5, 0.866, 0],\n",
    "    [0.5, 0.288, 0.1],\n",
    "])\n",
    "tet4 = np.array([ # \n",
    "    [0, 0, 0],\n",
    "    [5, 0, 0],\n",
    "    [0, 1, 0],\n",
    "    [0, 0, 5],\n",
    "])\n",
    "def mesh_from_tet(tet:np.ndarray): \n",
    "    faces = list(combinations(tet, 3))\n",
    "    return pv.PolyData(*convert_faces_to_polydata_input(faces))\n",
    "\n",
    "    "
   ]
  },
  {
   "cell_type": "code",
   "execution_count": 15,
   "metadata": {},
   "outputs": [],
   "source": [
    "from matplotlib.colors import hex2color\n",
    "from irregular_object_packing.mesh.utils import convert_faces_to_polydata_input\n",
    "\n",
    "colorslist = [\n",
    "    [\"red\", \"red\", \"blue\", \"blue\"],\n",
    "    [\"red\", \"red\", \"red\", \"blue\"],\n",
    "    [\"red\", \"red\", \"blue\", \"green\"],\n",
    "    [\"red\", \"green\", \"blue\", \"yellow\"]\n",
    "]\n",
    "splits = [ split_2_2222, split_2_3331, split_3, split_4 ]\n",
    "tets = [ tet1,]#tet2, ]\n",
    "\n",
    "# plotter = pv.Plotter(shape = (len(tets),len(splits)),)\n",
    "for i, split in enumerate(splits):\n",
    "    for j, tet in enumerate(tets):\n",
    "        plotter =  pv.Plotter()\n",
    "        # plotter.subplot(j,i)\n",
    "        faces = split(tet)\n",
    "        colors = colorslist[i]\n",
    "        color_id = 0\n",
    "        for k, face in enumerate(faces):\n",
    "            plotter.add_mesh(pv.PolyData(*convert_faces_to_polydata_input(face)), color='#D3D3D3', edge_color='purple', show_edges=True, show_vertices=True,point_size=10, render_points_as_spheres=True,line_width=15, opacity=1)\n",
    "            plotter.add_points(pv.PolyData(*convert_faces_to_polydata_input(face)).points, color='purple', point_size=22, render_points_as_spheres=True, opacity=1)\n",
    "            plotter.add_points(np.array([tet[k]]), color=colors[k], point_size=25, render_points_as_spheres=True, opacity=1)\n",
    "        # plotter.add_title(f\"{split.__name__}\")\n",
    "        plotter.add_mesh(mesh_from_tet(tet).extract_all_edges(), color=\"black\", show_edges=True, line_width=5,  opacity=1)\n",
    "        plotter.add_mesh(mesh_from_tet(tet), color=\"white\", opacity=0.1)\n",
    "        plotter.view_isometric()\n",
    "        plotter.view_vector((1,1,2))\n",
    "        plotter.save_graphic(f\"tet_{split.__name__}.pdf\")\n",
    "        \n",
    "# plotter.show()"
   ]
  },
  {
   "cell_type": "code",
   "execution_count": null,
   "metadata": {},
   "outputs": [],
   "source": []
  },
  {
   "cell_type": "code",
   "execution_count": 4,
   "metadata": {},
   "outputs": [
    {
     "data": {
      "text/plain": [
       "array([10, 30, 60])"
      ]
     },
     "execution_count": 4,
     "metadata": {},
     "output_type": "execute_result"
    }
   ],
   "source": [
    "np.cumsum([10, 20, 30])"
   ]
  },
  {
   "cell_type": "code",
   "execution_count": null,
   "metadata": {},
   "outputs": [],
   "source": []
  }
 ],
 "metadata": {
  "kernelspec": {
   "display_name": "irop",
   "language": "python",
   "name": "python3"
  },
  "language_info": {
   "codemirror_mode": {
    "name": "ipython",
    "version": 3
   },
   "file_extension": ".py",
   "mimetype": "text/x-python",
   "name": "python",
   "nbconvert_exporter": "python",
   "pygments_lexer": "ipython3",
   "version": "3.10.11"
  },
  "orig_nbformat": 4
 },
 "nbformat": 4,
 "nbformat_minor": 2
}
