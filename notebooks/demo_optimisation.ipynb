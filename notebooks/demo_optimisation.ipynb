{
 "cells": [
  {
   "cell_type": "code",
   "execution_count": 1,
   "metadata": {},
   "outputs": [],
   "source": [
    "import logging\n",
    "from irregular_object_packing.mesh.sampling import resample_pyvista_mesh\n",
    "from irregular_object_packing.mesh.transform import scale_and_center_mesh, scale_to_volume\n",
    "from irregular_object_packing.packing.optimizer import Optimizer, default_optimizer_config \n",
    "import pyvista as pv\n",
    "\n",
    "from irregular_object_packing.packing.optimizer_data import SimConfig\n",
    "\n",
    "mesh_volume = 0.2\n",
    "container_volume = 10\n",
    "\n",
    "original_mesh = pv.Cube().triangulate().extract_surface()\n",
    "container = pv.Cube().triangulate().extract_surface()\n",
    "\n",
    "\n",
    "container = scale_to_volume(container, container_volume)\n",
    "container = resample_pyvista_mesh(container, 15*4*2)\n",
    "original_mesh = scale_and_center_mesh(original_mesh, mesh_volume)\n",
    "\n",
    "settings = SimConfig(\n",
    "    itn_max=100,\n",
    "    n_scale_steps=9,\n",
    "    r=0.3,\n",
    "    final_scale=1,\n",
    "    log_lvl=logging.WARNING,\n",
    "    sampling_disabled=True,\n",
    "    init_f=0.1,\n",
    "    max_t=mesh_volume**(1 / 3) * 2,\n",
    "    handle_collisions=False,\n",
    ")\n",
    "plotter = None\n",
    "optimizer = Optimizer(original_mesh, container, settings, plotter)\n",
    "\n"
   ]
  },
  {
   "cell_type": "code",
   "execution_count": 2,
   "metadata": {},
   "outputs": [],
   "source": [
    "\n",
    "optimizer.setup()\n"
   ]
  },
  {
   "cell_type": "code",
   "execution_count": 3,
   "metadata": {},
   "outputs": [
    {
     "data": {
      "application/vnd.jupyter.widget-view+json": {
       "model_id": "a3304a6edb484df4857e34669cb08a29",
       "version_major": 2,
       "version_minor": 0
      },
      "text/plain": [
       "scale\t:   0%|          | 0/9 [00:00<?, ?it/s]"
      ]
     },
     "metadata": {},
     "output_type": "display_data"
    },
    {
     "data": {
      "application/vnd.jupyter.widget-view+json": {
       "model_id": "dd82e1c2724d47c49e634008ae9b0538",
       "version_major": 2,
       "version_minor": 0
      },
      "text/plain": [
       "Iteration\t:   0%|          | 0/100 [00:00<?, ?it/s]"
      ]
     },
     "metadata": {},
     "output_type": "display_data"
    },
    {
     "data": {
      "application/vnd.jupyter.widget-view+json": {
       "model_id": "2329d4da53754e7d8aee07596e1019bd",
       "version_major": 2,
       "version_minor": 0
      },
      "text/plain": [
       "Object\t:   0%|          | 0/6 [00:00<?, ?it/s]"
      ]
     },
     "metadata": {},
     "output_type": "display_data"
    }
   ],
   "source": [
    "\n",
    "optimizer.run(Ni=1)"
   ]
  },
  {
   "cell_type": "code",
   "execution_count": 4,
   "metadata": {},
   "outputs": [
    {
     "data": {
      "application/vnd.jupyter.widget-view+json": {
       "model_id": "3a1b3c154acb4329893bc7208fc1ceb3",
       "version_major": 2,
       "version_minor": 0
      },
      "text/plain": [
       "Widget(value=\"<iframe src='http://localhost:54590/index.html?ui=P_0x15ccc0040_0&reconnect=auto' style='width: …"
      ]
     },
     "metadata": {},
     "output_type": "display_data"
    }
   ],
   "source": [
    "optimizer.compute_violations()\n",
    "optimizer.plotter.plot_state().show()\n",
    "\n",
    "# optimizer.plotter.generate_gif(\"test.gif\")"
   ]
  },
  {
   "cell_type": "code",
   "execution_count": 5,
   "metadata": {},
   "outputs": [
    {
     "data": {
      "application/vnd.jupyter.widget-view+json": {
       "model_id": "ba5603c7b0804b248ef702e7348f5be4",
       "version_major": 2,
       "version_minor": 0
      },
      "text/plain": [
       "Widget(value=\"<iframe src='http://localhost:54590/index.html?ui=P_0x15c6982e0_1&reconnect=auto' style='width: …"
      ]
     },
     "metadata": {},
     "output_type": "display_data"
    }
   ],
   "source": [
    "\n",
    "pltr = pv.Plotter()\n",
    "pltr.add_mesh(optimizer.final_cat_meshes()[0], show_edges=True, opacity=0.5)\n",
    "pltr.add_mesh(optimizer.cat_mesh(0, 0), show_edges=True, opacity=0.5, color=\"red\")\n",
    "\n",
    "pltr.show()\n",
    "# optimizer.plotter.plot_step_object_compare(5,5)"
   ]
  },
  {
   "cell_type": "code",
   "execution_count": 6,
   "metadata": {},
   "outputs": [],
   "source": [
    "# optimizer.plotter.plot_step_object_compare(5,5)"
   ]
  },
  {
   "cell_type": "code",
   "execution_count": 7,
   "metadata": {},
   "outputs": [],
   "source": [
    "# import irregular_object_packing.cat.chordal_axis_transform as cat\n",
    "# meshes_before, meshes_after, cat_meshes , _= optimizer.recreate_scene(3)\n",
    "# optimizer.plotter.plot_step(4)\n",
    "\n",
    "# meshes = meshes_before + [optimizer.container]\n",
    "# tetmesh = cat.compute_cdt(meshes)\n",
    "\n",
    "# pltr = pv.Plotter()\n",
    "# pltr.add_mesh_clip_plane(tetmesh, show_edges=True, crinkle=True)\n",
    "# pltr.add_mesh(cat_meshes[5], show_edges=True, color=\"yellow\")\n",
    "# pltr.add_mesh(meshes_after[5], show_edges=True, color=\"red\")\n",
    "# pltr.show()\n",
    "\n"
   ]
  },
  {
   "cell_type": "code",
   "execution_count": 8,
   "metadata": {},
   "outputs": [
    {
     "data": {
      "application/vnd.jupyter.widget-view+json": {
       "model_id": "0fe19cd6b2f1405b95a9c0490dd5a1de",
       "version_major": 2,
       "version_minor": 0
      },
      "text/plain": [
       "scale\t:   0%|          | 0/9 [00:00<?, ?it/s]"
      ]
     },
     "metadata": {},
     "output_type": "display_data"
    },
    {
     "data": {
      "application/vnd.jupyter.widget-view+json": {
       "model_id": "6407502662494d329805a794c7d7a058",
       "version_major": 2,
       "version_minor": 0
      },
      "text/plain": [
       "Iteration\t:   0%|          | 0/100 [00:00<?, ?it/s]"
      ]
     },
     "metadata": {},
     "output_type": "display_data"
    },
    {
     "data": {
      "application/vnd.jupyter.widget-view+json": {
       "model_id": "3933e93f37f647efa5e070633d8e3806",
       "version_major": 2,
       "version_minor": 0
      },
      "text/plain": [
       "Object\t:   0%|          | 0/5 [00:00<?, ?it/s]"
      ]
     },
     "metadata": {},
     "output_type": "display_data"
    }
   ],
   "source": [
    "optimizer = default_optimizer_config(5, '../data/mesh/')\n",
    "optimizer.config.log_lvl = logging.WARNING\n",
    "optimizer.setup()\n",
    "optimizer.run()\n",
    "optimizer.plotter.plot_state().show()"
   ]
  },
  {
   "cell_type": "code",
   "execution_count": null,
   "metadata": {},
   "outputs": [],
   "source": [
    "optimizer.report()"
   ]
  },
  {
   "cell_type": "code",
   "execution_count": null,
   "metadata": {},
   "outputs": [],
   "source": [
    "optimizer.fails_per_step"
   ]
  },
  {
   "cell_type": "code",
   "execution_count": null,
   "metadata": {},
   "outputs": [],
   "source": [
    "optimizer.errors_per_step"
   ]
  },
  {
   "cell_type": "code",
   "execution_count": null,
   "metadata": {},
   "outputs": [],
   "source": []
  }
 ],
 "metadata": {
  "kernelspec": {
   "display_name": "irop",
   "language": "python",
   "name": "python3"
  },
  "language_info": {
   "codemirror_mode": {
    "name": "ipython",
    "version": 3
   },
   "file_extension": ".py",
   "mimetype": "text/x-python",
   "name": "python",
   "nbconvert_exporter": "python",
   "pygments_lexer": "ipython3",
   "version": "3.10.11"
  },
  "orig_nbformat": 4
 },
 "nbformat": 4,
 "nbformat_minor": 2
}
