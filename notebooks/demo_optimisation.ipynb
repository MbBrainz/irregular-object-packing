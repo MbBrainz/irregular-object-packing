{
 "cells": [
  {
   "cell_type": "code",
   "execution_count": null,
   "metadata": {},
   "outputs": [],
   "source": []
  },
  {
   "cell_type": "code",
   "execution_count": 25,
   "metadata": {},
   "outputs": [
    {
     "data": {
      "application/vnd.jupyter.widget-view+json": {
       "model_id": "ffb74667c7584852a60545227ceadac1",
       "version_major": 2,
       "version_minor": 0
      },
      "text/plain": [
       "Widget(value=\"<iframe src='http://localhost:59448/index.html?ui=P_0x17d0fe380_12&reconnect=auto' style='width:…"
      ]
     },
     "metadata": {},
     "output_type": "display_data"
    }
   ],
   "source": [
    "# ruff: noqa: E501\n",
    "import unittest\n",
    "from dataclasses import astuple, dataclass\n",
    "\n",
    "import numpy as np\n",
    "import pyvista\n",
    "import tetgen\n",
    "from parameterized import parameterized\n",
    "from pyvista import PolyData\n",
    "from scipy.optimize import minimize\n",
    "\n",
    "from irregular_object_packing.mesh.transform import scale_and_center_mesh\n",
    "from irregular_object_packing.packing.chordal_axis_transform import (\n",
    "    compute_cat_faces,\n",
    "    face_coord_to_points_and_faces,\n",
    ")\n",
    "from irregular_object_packing.packing.nlc_optimisation import (\n",
    "    compute_optimal_growth,\n",
    "    construct_transform_matrix,\n",
    "    construct_transform_matrix_from_array,\n",
    "    local_constraint_multiple_points,\n",
    "    objective,\n",
    "    transform_v,\n",
    ")\n",
    "\n",
    "RB = 1 / 12 * np.pi\n",
    "\n",
    "\n",
    "class TestObj:\n",
    "    def __init__(self) -> None:\n",
    "        self.obj_points = np.array(\n",
    "            [\n",
    "                [2, 1, 1],\n",
    "                [11, 3, 1],\n",
    "                [10, 7, 1],\n",
    "                [1, 5, 1],\n",
    "                [2, 1, 3],\n",
    "                [11, 3, 3],\n",
    "                [10, 7, 3],\n",
    "                [1, 5, 3],\n",
    "            ], dtype=np.float64)\n",
    "        self.init_center = np.mean(self.obj_points, axis=0)\n",
    "        self.obj_faces = np.hstack(np.array([\n",
    "            [4, 0, 1, 2, 3],\n",
    "            [4, 4, 5, 6, 7],\n",
    "            [4, 0, 1, 5, 4],\n",
    "            [4, 1, 2, 6, 5],\n",
    "            [4, 2, 3, 7, 6],\n",
    "            [4, 3, 0, 4, 7],\n",
    "        ]), )\n",
    "\n",
    "        self.container_points = np.array([\n",
    "            [0, 0, 0],\n",
    "            [15, 0, 0],\n",
    "            [15, 10, 0],\n",
    "            [0, 10, 0],\n",
    "            [0, 0, 4],\n",
    "            [15, 0, 4],\n",
    "            [15, 10, 4],\n",
    "            [0, 10, 4],\n",
    "        ], dtype=np.float64)\n",
    "        self.container_center = np.mean(self.container_points, axis=0)\n",
    "        self.container_faces = self.obj_faces.copy()\n",
    "        self.obj = PolyData(self.obj_points, self.obj_faces)\n",
    "        self.container = PolyData(self.container_points, self.container_faces)\n",
    "        self.obj0 = scale_and_center_mesh(self.obj, self.obj.volume)\n",
    "\n",
    "        self.tet_input = (self.container + self.obj).triangulate()\n",
    "\n",
    "        tet = tetgen.TetGen(self.tet_input)\n",
    "        tet.tetrahedralize(order=1, mindihedral=0, minratio=0, steinerleft=0, quality=False)\n",
    "\n",
    "        self.cat_data = compute_cat_faces(\n",
    "            tet.grid, [set(map(tuple, self.obj_points)), set(map(tuple, self.container_points))],\n",
    "            [self.init_center],\n",
    "        )\n",
    "\n",
    "        self.obj_cat_cell = PolyData(*face_coord_to_points_and_faces(self.cat_data, 0))\n",
    "        self.previous_transform_array = np.array([1, 0, 0, 0] + list(self.init_center))\n",
    "\n",
    "    def test_optimize_cat_box(self):\n",
    "        self.new_tf_array = compute_optimal_growth(\n",
    "            0,\n",
    "            self.previous_transform_array,\n",
    "            5,\n",
    "            (0, None),\n",
    "            1 / 12 * np.pi,\n",
    "            None,\n",
    "            0,\n",
    "            cat_data=self.cat_data,\n",
    "        )\n",
    "\n",
    "        # transform the object\n",
    "        new_obj = self.obj0.transform(construct_transform_matrix_from_array(self.new_tf_array), inplace=False)\n",
    "\n",
    "        inside = new_obj.select_enclosed_points(self.container)\n",
    "        pts = new_obj.extract_points(inside['SelectedPoints'].view(bool), adjacent_cells=False)\n",
    "\n",
    "        plotter = pyvista.Plotter()\n",
    "        plotter.add_mesh(self.obj, color='green', opacity=0.9)\n",
    "        plotter.add_mesh(self.obj_cat_cell, color='yellow', opacity=0.8)\n",
    "        plotter.add_mesh(inside, color='red', opacity=0.8)\n",
    "        plotter.add_mesh(self.container, color='blue', opacity=0.5)\n",
    "        plotter.show()\n",
    "\n",
    "\n",
    "test_obj = TestObj()\n",
    "test_obj.test_optimize_cat_box()\n"
   ]
  },
  {
   "cell_type": "code",
   "execution_count": 20,
   "metadata": {},
   "outputs": [
    {
     "data": {
      "text/plain": [
       "array([6., 4., 2.])"
      ]
     },
     "execution_count": 20,
     "metadata": {},
     "output_type": "execute_result"
    }
   ],
   "source": [
    "test_obj.init_center\n"
   ]
  },
  {
   "cell_type": "code",
   "execution_count": 17,
   "metadata": {},
   "outputs": [
    {
     "data": {
      "text/plain": [
       "array([ 2.37302416e+00, -2.55828127e-12, -5.28262607e-13, -2.07987064e-01,\n",
       "        6.75000000e+00,  4.50000000e+00,  2.00000000e+00])"
      ]
     },
     "execution_count": 17,
     "metadata": {},
     "output_type": "execute_result"
    }
   ],
   "source": [
    "test_obj.new_tf_array\n"
   ]
  },
  {
   "cell_type": "code",
   "execution_count": null,
   "metadata": {},
   "outputs": [],
   "source": []
  }
 ],
 "metadata": {
  "kernelspec": {
   "display_name": "irop",
   "language": "python",
   "name": "python3"
  },
  "language_info": {
   "codemirror_mode": {
    "name": "ipython",
    "version": 3
   },
   "file_extension": ".py",
   "mimetype": "text/x-python",
   "name": "python",
   "nbconvert_exporter": "python",
   "pygments_lexer": "ipython3",
   "version": "3.10.10"
  },
  "orig_nbformat": 4
 },
 "nbformat": 4,
 "nbformat_minor": 2
}
