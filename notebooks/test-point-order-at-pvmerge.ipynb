{
 "cells": [
  {
   "attachments": {},
   "cell_type": "markdown",
   "metadata": {},
   "source": [
    "# Testing the order of points after tetgen.Tetrahedralize\n",
    "\n",
    "The purpose of this file is to see if the order of points is perserved after tetgen.Tetrahedralize. This is important for computing the cat cells of different objects.\n"
   ]
  },
  {
   "cell_type": "code",
   "execution_count": 1,
   "metadata": {},
   "outputs": [
    {
     "name": "stdout",
     "output_type": "stream",
     "text": [
      "for mesh 0 (8 points):\n",
      "True\n",
      "for mesh 1 (8 points):\n",
      "True\n",
      "for mesh 2 (8 points):\n",
      "True\n",
      "for mesh 3 (7 points):\n",
      "True\n",
      "for mesh 4 (12 points):\n",
      "True\n"
     ]
    }
   ],
   "source": [
    "import numpy as np\n",
    "import pyvista as pv\n",
    "import tetgen\n",
    "\n",
    "# Create a simple mesh\n",
    "mesh1 = pv.Cube().clean().triangulate()\n",
    "mesh2 = pv.Cube(center=(3, 0, 0)).clean().triangulate()\n",
    "mesh3 = pv.Cube(center=(0, 3, 0)).clean().triangulate()\n",
    "mesh4 = pv.Cone(center=(0, 0, 3)).clean().triangulate()\n",
    "mesh5 = pv.Icosahedron(radius=9).clean().triangulate()\n",
    "\n",
    "meshes = [mesh1, mesh2, mesh3, mesh4, mesh5]\n",
    "\n",
    "# Merge the meshes\n",
    "merged = pv.PolyData()\n",
    "for mesh in meshes:\n",
    "    merged.merge(mesh, inplace=True, merge_points=False)\n",
    "\n",
    "tetmesh = tetgen.TetGen(merged)\n",
    "tetmesh.tetrahedralize(order=1, mindihedral=0, minratio=0, quality=False, cdt=True)\n",
    "\n",
    "(tetmesh.grid.celltypes == np.full(tetmesh.grid.n_cells, 10, dtype=np.uint8)).all()\n",
    "id0 = 0\n",
    "for i, mesh in enumerate(meshes):\n",
    "    tet_points = tetmesh.grid.points[id0:id0 + mesh.n_points]\n",
    "\n",
    "    mesh_points = mesh.points[0:mesh.n_points]\n",
    "    # print(f\"points tet and mesh: \\n{tet_points}\\n{mesh_points}\\n\")\n",
    "    print(f\"for mesh {i} ({mesh.n_points} points):\")\n",
    "    print((tet_points == mesh_points).all())\n",
    "\n",
    "    id0 += mesh.n_points"
   ]
  },
  {
   "cell_type": "code",
   "execution_count": 7,
   "metadata": {},
   "outputs": [
    {
     "name": "stdout",
     "output_type": "stream",
     "text": [
      "cell shape: (875,)\n",
      "[ 4 22 16 21 20]\n",
      "[ 4  8 15 12 14]\n",
      "[ 4 33 18 17 16]\n",
      "[ 4 19 16 21 18]\n",
      "[ 4 24 25 30 26]\n",
      "[ 4  5 20 11 31]\n",
      "[ 4 22 18 21 16]\n",
      "[ 4 35 24 30 29]\n",
      "[ 4 26 29 30 24]\n",
      "[ 4 16  2 23 17]\n",
      "[ 4 36  2  1  0]\n",
      "[ 4 31 19 32 33]\n",
      "[ 4 39 31  8 11]\n",
      "[ 4 16 19 33 18]\n",
      "[ 4 40 19 33 16]\n",
      "[ 4  3 40  2 16]\n",
      "[ 4  3  0  2 40]\n",
      "[ 4 26 29 24 36]\n",
      "[ 4 42  0 38 40]\n",
      "[ 4 29 28  1 36]\n",
      "[ 4 37 32 39 13]\n",
      "[ 4  7  9  6 30]\n",
      "[ 4 36 25 24 26]\n",
      "[ 4 20  5 11 10]\n",
      "[ 4 11 13 39 31]\n",
      "[ 4 36  0  1 42]\n",
      "[ 4 11 10  8 13]\n",
      "[ 4 36 26 34 25]\n",
      "[ 4 23  6  5 10]\n",
      "[ 4 29 36  1 42]\n",
      "[ 4 35 29 30  9]\n",
      "[ 4 22 26 23 30]\n",
      "[ 4 10 30 23  6]\n",
      "[ 4 30 24 34 25]\n",
      "[ 4  9  7  4 41]\n",
      "[ 4 36 29 35 42]\n",
      "[ 4 29 28  7  1]\n",
      "[ 4 31 40 38  0]\n",
      "[ 4 36  0 42 40]\n",
      "[ 4 31 20 21 16]\n",
      "[ 4 10 30  6  9]\n",
      "[ 4 30 35 37 34]\n",
      "[ 4 15 35 41 37]\n",
      "[ 4 30  9 14 15]\n",
      "[ 4 28 26 36 29]\n",
      "[ 4  2  0 36 40]\n",
      "[ 4 28 27 36 26]\n",
      "[ 4 38 31  4  8]\n",
      "[ 4 26 27 36 17]\n",
      "[ 4 27  2 36 17]\n",
      "[ 4 16 33 36 17]\n",
      "[ 4 16 40 36 33]\n",
      "[ 4 37 30 14 15]\n",
      "[ 4 17 18 36 26]\n",
      "[ 4 17 33 36 18]\n",
      "[ 4  2 16 36 17]\n",
      "[ 4  2 40 36 16]\n",
      "[ 4 20 10 21 22]\n",
      "[ 4 21 10 11 13]\n",
      "[ 4 36 28  1 27]\n",
      "[ 4 36 27  1  2]\n",
      "[ 4 34 18 32 22]\n",
      "[ 4  9 15 30 35]\n",
      "[ 4 20  3 31  5]\n",
      "[ 4 13 31 11 21]\n",
      "[ 4 37 41 12 39]\n",
      "[ 4 19 40 31 16]\n",
      "[ 4 36 24 34 35]\n",
      "[ 4 23 16 20  2]\n",
      "[ 4 13 32 39 31]\n",
      "[ 4 27 28 30 26]\n",
      "[ 4  8 14 12 13]\n",
      "[ 4  9 41  4  8]\n",
      "[ 4  3  2 20 16]\n",
      "[ 4 39 13 12 37]\n",
      "[ 4 41  0 38 42]\n",
      "[ 4 35 24 34 30]\n",
      "[ 4 40 19 31 33]\n",
      "[ 4 30 15 37 35]\n",
      "[ 4 24 29 35 36]\n",
      "[ 4 10 30 14 22]\n",
      "[ 4  8 41  4 38]\n",
      "[ 4 16 17 23 22]\n",
      "[ 4 22 17 23 26]\n",
      "[ 4 14 34 32 22]\n",
      "[ 4  5 10 20 23]\n",
      "[ 4 21 20 11 10]\n",
      "[4 5 0 4 6]\n",
      "[ 4 36 25 34 24]\n",
      "[ 4 10 22 23 30]\n",
      "[ 4 18 17 22 26]\n",
      "[ 4 17 18 22 16]\n",
      "[ 4 31 16 21 19]\n",
      "[ 4 21 19 32 31]\n",
      "[ 4 34 33 32 18]\n",
      "[ 4 37 34 32 14]\n",
      "[ 4 26 28 30 29]\n",
      "[ 4 32 14 13 37]\n",
      "[ 4  7 29 30 28]\n",
      "[ 4  9 29 30  7]\n",
      "[ 4 30 25 34 26]\n",
      "[ 4 30 26 34 22]\n",
      "[ 4 22 26 34 18]\n",
      "[ 4 36 33 34 18]\n",
      "[ 4 36 18 34 26]\n",
      "[ 4 21 22 32 18]\n",
      "[ 4  1 27  6  2]\n",
      "[ 4 30 27  6 28]\n",
      "[ 4 30 28  6  7]\n",
      "[4 1 0 6 7]\n",
      "[4 1 2 6 0]\n",
      "[ 4  1 28  6 27]\n",
      "[ 4  7 28  6  1]\n",
      "[ 4  2 27 23 17]\n",
      "[ 4  6 27 23  2]\n",
      "[ 4 27 26 23 17]\n",
      "[ 4 30 27 23  6]\n",
      "[ 4 30 26 23 27]\n",
      "[ 4 10  9 14 30]\n",
      "[ 4 34 30 14 37]\n",
      "[ 4 34 22 14 30]\n",
      "[ 4 41 15  8  9]\n",
      "[ 4 23 10 20 22]\n",
      "[ 4 23  2 20  5]\n",
      "[ 4 23 22 20 16]\n",
      "[ 4  5  2 20  3]\n",
      "[4 6 2 5 0]\n",
      "[4 3 0 5 2]\n",
      "[ 4 23  2  5  6]\n",
      "[ 4 37 15 12 41]\n",
      "[ 4 20 16 31  3]\n",
      "[ 4 40  3 31 16]\n",
      "[ 4 38 41  4  0]\n",
      "[ 4 41  7  4  0]\n",
      "[ 4 21 31 11 20]\n",
      "[ 4  0  3 31 40]\n",
      "[ 4  5  3 31  0]\n",
      "[ 4  8 13 12 39]\n",
      "[ 4 21 18 32 19]\n",
      "[ 4 33 19 32 18]\n",
      "[ 4 32 31 13 21]\n",
      "[ 4 13 14 12 37]\n",
      "[ 4  0 31  4 38]\n",
      "[4 6 0 4 7]\n",
      "[ 4 39 11  8 13]\n",
      "[ 4  8 41 12 15]\n",
      "[ 4  0  5  4 31]\n",
      "[ 4 32 22 13 14]\n",
      "[ 4 21 22 13 32]\n",
      "[ 4 21 10 13 22]\n",
      "[ 4 14 22 13 10]\n",
      "[ 4 39 31 38  8]\n",
      "[ 4 15  9 41 35]\n",
      "[ 4 37 14 12 15]\n",
      "[ 4  1  0 41 42]\n",
      "[ 4  7  0 41  1]\n",
      "[ 4 29 42 41 35]\n",
      "[ 4  9 29 41 35]\n",
      "[ 4  9  7 41 29]\n",
      "[ 4 29  1 41 42]\n",
      "[ 4  7  1 41 29]\n",
      "[ 4  9 15  8 14]\n",
      "[ 4 10 14  8 13]\n",
      "[ 4 10  9  8 14]\n",
      "[ 4 12  8 38 41]\n",
      "[ 4 39  8 38 12]\n",
      "[ 4 12 41 38 39]\n",
      "[ 4 11 31  4  5]\n",
      "[ 4  8 31  4 11]\n",
      "[ 4  8 10  4  9]\n",
      "[4 6 7 4 9]\n",
      "[ 4  8 11  4 10]\n",
      "[ 4  5 10  4 11]\n",
      "[ 4  5  6  4 10]\n",
      "[ 4  9 10  4  6]\n"
     ]
    }
   ],
   "source": [
    "# if i have a list of meshes, i want to be able to check the ids of\n",
    "# the points in a tetrahedron(cell of the tetmesh)\n",
    "# and check if they are the same as the ids of the points in the mesh\n",
    "cells = tetmesh.grid.cells\n",
    "print(f\"cell shape: {cells.shape}\")\n",
    "for cell in np.hsplit(cells, cells.size / (4 + 1)):\n",
    "    assert cell[0] == 4\n",
    "    print(cell)"
   ]
  },
  {
   "cell_type": "code",
   "execution_count": 20,
   "metadata": {},
   "outputs": [],
   "source": [
    "# Define the two functions here...\n",
    "from bisect import bisect_right\n",
    "\n",
    "import numpy as np\n",
    "\n",
    "\n",
    "def check_points_bi(num_points, points):\n",
    "    # Calculate point ID ranges for each object\n",
    "    ranges = []\n",
    "    curr_id = 0\n",
    "    for num_point in num_points:\n",
    "        ranges.append(curr_id + num_point)\n",
    "        curr_id += num_point\n",
    "\n",
    "    # Check which objects the points belong to\n",
    "    point_objects = set()\n",
    "    for point in points:\n",
    "        # Binary search to find the object this point belongs to\n",
    "        i = bisect_right(ranges, point)\n",
    "        point_objects.add(i)\n",
    "\n",
    "    # If more than one object is found, return False\n",
    "    return len(point_objects) <= 1\n",
    "\n",
    "\n",
    "def check_points_np(num_points, points):\n",
    "    # Get a numpy array of the number of points for each object\n",
    "\n",
    "    # Calculate the cumulative sum to get the ranges\n",
    "    ranges = np.cumsum(num_points)\n",
    "\n",
    "    # Check which objects the points belong to\n",
    "    point_objects = np.searchsorted(ranges, points, side='right')\n",
    "\n",
    "    # If more than one object is found, return False\n",
    "    return len(set(point_objects)) <= 1\n",
    "\n",
    "\n",
    "def check_points_np_unique(num_points, points):\n",
    "    # Get a numpy array of the number of points for each object\n",
    "\n",
    "    # Calculate the cumulative sum to get the ranges\n",
    "    ranges = np.cumsum(num_points)\n",
    "\n",
    "    # Check which objects the points belong to\n",
    "    point_objects = np.searchsorted(ranges, points, side='right')\n",
    "\n",
    "    # If more than one object is found, return False\n",
    "    return len(np.unique(point_objects)) <= 1\n",
    "\n",
    "\n",
    "# Generate some test data\n",
    "num_objects = 1000000\n",
    "num_points = np.random.randint(1, 10, size=num_objects)\n",
    "points = np.random.randint(0, num_objects * 5, size=4)"
   ]
  },
  {
   "cell_type": "code",
   "execution_count": 24,
   "metadata": {},
   "outputs": [
    {
     "name": "stdout",
     "output_type": "stream",
     "text": [
      "91.7 ms ± 589 µs per loop (mean ± std. dev. of 7 runs, 10 loops each)\n"
     ]
    }
   ],
   "source": [
    "%%timeit\n",
    "check_points_bi(num_points, points)"
   ]
  },
  {
   "cell_type": "code",
   "execution_count": 25,
   "metadata": {},
   "outputs": [
    {
     "name": "stdout",
     "output_type": "stream",
     "text": [
      "2.38 ms ± 138 µs per loop (mean ± std. dev. of 7 runs, 100 loops each)\n"
     ]
    }
   ],
   "source": [
    "%%timeit\n",
    "check_points_np(num_points, points)"
   ]
  },
  {
   "cell_type": "code",
   "execution_count": 26,
   "metadata": {},
   "outputs": [
    {
     "name": "stdout",
     "output_type": "stream",
     "text": [
      "2.47 ms ± 89.6 µs per loop (mean ± std. dev. of 7 runs, 100 loops each)\n"
     ]
    }
   ],
   "source": [
    "%%timeit\n",
    "check_points_np_unique(num_points, points)"
   ]
  },
  {
   "cell_type": "code",
   "execution_count": 27,
   "metadata": {},
   "outputs": [],
   "source": [
    "num_objects = 30\n",
    "num_points = np.random.randint(1, 10, size=num_objects)\n",
    "points = np.random.randint(0, num_objects * 5, size=4)"
   ]
  },
  {
   "cell_type": "code",
   "execution_count": 30,
   "metadata": {},
   "outputs": [
    {
     "name": "stdout",
     "output_type": "stream",
     "text": [
      "3.94 µs ± 40.3 ns per loop (mean ± std. dev. of 7 runs, 100,000 loops each)\n"
     ]
    }
   ],
   "source": [
    "%%timeit\n",
    "check_points_bi(num_points, points)"
   ]
  },
  {
   "cell_type": "code",
   "execution_count": 31,
   "metadata": {},
   "outputs": [
    {
     "name": "stdout",
     "output_type": "stream",
     "text": [
      "2.62 µs ± 114 ns per loop (mean ± std. dev. of 7 runs, 100,000 loops each)\n"
     ]
    }
   ],
   "source": [
    "%%timeit\n",
    "check_points_np(num_points, points)"
   ]
  },
  {
   "cell_type": "code",
   "execution_count": 32,
   "metadata": {},
   "outputs": [
    {
     "name": "stdout",
     "output_type": "stream",
     "text": [
      "4.47 µs ± 23.6 ns per loop (mean ± std. dev. of 7 runs, 100,000 loops each)\n"
     ]
    }
   ],
   "source": [
    "%%timeit\n",
    "check_points_np_unique(num_points, points)"
   ]
  }
 ],
 "metadata": {
  "kernelspec": {
   "display_name": "irop",
   "language": "python",
   "name": "python3"
  },
  "language_info": {
   "codemirror_mode": {
    "name": "ipython",
    "version": 3
   },
   "file_extension": ".py",
   "mimetype": "text/x-python",
   "name": "python",
   "nbconvert_exporter": "python",
   "pygments_lexer": "ipython3",
   "version": "3.10.0"
  },
  "orig_nbformat": 4
 },
 "nbformat": 4,
 "nbformat_minor": 2
}
